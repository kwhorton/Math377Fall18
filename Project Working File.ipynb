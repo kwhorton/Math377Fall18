{
 "cells": [
  {
   "cell_type": "markdown",
   "metadata": {},
   "source": [
    "# Math 377 Fall 2018\n",
    "\n",
    "#### Name:\n",
    "#### Section:"
   ]
  },
  {
   "cell_type": "markdown",
   "metadata": {},
   "source": [
    "**Documentation Statement:**"
   ]
  },
  {
   "cell_type": "markdown",
   "metadata": {},
   "source": [
    "# Project: Predicting Spam\n",
    "### Data Collection, Summarization, Inference and Prediction\n",
    "\n",
    "<img style=\"float: right;\" src=\"img\\spam3.jpg\">\n",
    "This project is designed to cover many of the main ideas of the entire course. We will go into a little more detail with the data collection and prediction. Ultimately we want to predict if an email is spam. In the course of doing this, we will collect data, clean it up, work with string data, make a simple inference, and then build a naive bayes model from the ground up. We will then bring in the package `scikit-learn` to check our work and add extra functionality.\n",
    "\n",
    "\n",
    "\n",
    "By the end of project, you should know how to:\n",
    "\n",
    "1. Find and import data.\n",
    "2. Use regular expressions to edit string data.\n",
    "3. Determine if a word helps to identify an email as spam or not.\n",
    "4. Create a function to predict the type of email using the ideas of Bayesian Classification.\n",
    "5. Assess your model and propose improvements.\n",
    "\n",
    "**Advice.** Develop your answers incrementally. To perform a complicated table manipulation, break it up into steps, perform each step on a different line, give a new name to each result, and check that each intermediate result is what you expect by displaying it. You can add additional names or functions to the provided cells in order to organize your work. \n",
    "\n",
    "**Authorized Resources:** Anyone and anything."
   ]
  },
  {
   "cell_type": "markdown",
   "metadata": {},
   "source": [
    "### 1. Background Information \n",
    "\n",
    "There are a couple of reference papers that may be of interest to explore. The first is \"Better Bayesian Filtering\" by Paul Graham,http://bit.ly/1ycPbiy. The second is \"A Plan for Spam\" also by Paul Graham, http://bit.ly/1ycPcmA"
   ]
  },
  {
   "cell_type": "markdown",
   "metadata": {},
   "source": [
    "### 2. Load Packages  \n",
    "\n",
    "To get started, load `datascience`, `numpy`, `plots`, and `pandas`."
   ]
  },
  {
   "cell_type": "code",
   "execution_count": 1,
   "metadata": {},
   "outputs": [],
   "source": [
    "import datascience as ds #note the labs use from datascience import * but this is not a good practice\n",
    "import numpy as np\n",
    "import pandas as pd\n",
    "%matplotlib inline\n",
    "import matplotlib.pyplot as plots\n",
    "plots.style.use('fivethirtyeight')"
   ]
  },
  {
   "cell_type": "markdown",
   "metadata": {},
   "source": [
    "### 3. Get Data\n",
    "\n",
    "We are going to use data from the [Apache SpamAssasian](https://spamassassin.apache.org/) website. In particular we want data from their public corpus, see the readme document at https://spamassassin.apache.org/old/publiccorpus/.\n",
    "\n",
    "We have provided you the data in a zip file, spam.zip, because the data on the website is in a `tar` and `bz2` zip format. There are functions in python that allow you to address these types of file, see https://docs.python.org/3/library/tarfile.html, but it is not worth the extra coding effort at this point.\n",
    "\n",
    "You should extract the zip file and place the three folders in a folder called data under the directory where you are running this notebook. The three folders are  \n",
    "easy_ham  \n",
    "spam  \n",
    "hard_ham  \n",
    "\n",
    "The files names are the message number and the MD5 checksum. This is not convenient nomenclature. To access the files we will use the `glob` package, https://docs.python.org/3/library/glob.html. We also use the `os` package to get the current working directory on your machine. Below is the code to open one file to view its contents. \n",
    "\n",
    "Note: using the `with` argument will automatically close the file upon completion of the loop."
   ]
  },
  {
   "cell_type": "code",
   "execution_count": 2,
   "metadata": {},
   "outputs": [],
   "source": [
    "import glob,re,os"
   ]
  },
  {
   "cell_type": "code",
   "execution_count": 3,
   "metadata": {},
   "outputs": [
    {
     "data": {
      "text/plain": [
       "'C:\\\\Users\\\\Brad.Warner\\\\Documents\\\\Classes\\\\Math 377\\\\Fall 2018\\\\data\\\\*\\\\*'"
      ]
     },
     "execution_count": 3,
     "metadata": {},
     "output_type": "execute_result"
    }
   ],
   "source": [
    "# Get working directory\n",
    "cwd = os.getcwd()\n",
    "path=cwd +'\\\\data\\\\*\\\\*'\n",
    "path"
   ]
  },
  {
   "cell_type": "code",
   "execution_count": 4,
   "metadata": {},
   "outputs": [
    {
     "data": {
      "text/plain": [
       "['C:\\\\Users\\\\Brad.Warner\\\\Documents\\\\Classes\\\\Math 377\\\\Fall 2018\\\\data\\\\easy_ham\\\\0001.ea7e79d3153e7469e7a9c3e0af6a357e',\n",
       " 'C:\\\\Users\\\\Brad.Warner\\\\Documents\\\\Classes\\\\Math 377\\\\Fall 2018\\\\data\\\\easy_ham\\\\0002.b3120c4bcbf3101e661161ee7efcb8bf',\n",
       " 'C:\\\\Users\\\\Brad.Warner\\\\Documents\\\\Classes\\\\Math 377\\\\Fall 2018\\\\data\\\\easy_ham\\\\0003.acfc5ad94bbd27118a0d8685d18c89dd',\n",
       " 'C:\\\\Users\\\\Brad.Warner\\\\Documents\\\\Classes\\\\Math 377\\\\Fall 2018\\\\data\\\\easy_ham\\\\0004.e8d5727378ddde5c3be181df593f1712',\n",
       " 'C:\\\\Users\\\\Brad.Warner\\\\Documents\\\\Classes\\\\Math 377\\\\Fall 2018\\\\data\\\\easy_ham\\\\0005.8c3b9e9c0f3f183ddaf7592a11b99957']"
      ]
     },
     "execution_count": 4,
     "metadata": {},
     "output_type": "execute_result"
    }
   ],
   "source": [
    "glob.glob(path)[:5] #Returns list with all the files in it, we will look at first 5."
   ]
  },
  {
   "cell_type": "markdown",
   "metadata": {},
   "source": [
    "Let's read in the first file and print out the contents. You can scroll down and read the email to get a feel for the content."
   ]
  },
  {
   "cell_type": "code",
   "execution_count": 5,
   "metadata": {},
   "outputs": [
    {
     "name": "stdout",
     "output_type": "stream",
     "text": [
      "From exmh-workers-admin@redhat.com  Thu Aug 22 12:36:23 2002\n",
      "\n",
      "Return-Path: <exmh-workers-admin@example.com>\n",
      "\n",
      "Delivered-To: zzzz@localhost.netnoteinc.com\n",
      "\n",
      "Received: from localhost (localhost [127.0.0.1])\n",
      "\n",
      "\tby phobos.labs.netnoteinc.com (Postfix) with ESMTP id D03E543C36\n",
      "\n",
      "\tfor <zzzz@localhost>; Thu, 22 Aug 2002 07:36:16 -0400 (EDT)\n",
      "\n",
      "Received: from phobos [127.0.0.1]\n",
      "\n",
      "\tby localhost with IMAP (fetchmail-5.9.0)\n",
      "\n",
      "\tfor zzzz@localhost (single-drop); Thu, 22 Aug 2002 12:36:16 +0100 (IST)\n",
      "\n",
      "Received: from listman.example.com (listman.example.com [66.187.233.211]) by\n",
      "\n",
      "    dogma.slashnull.org (8.11.6/8.11.6) with ESMTP id g7MBYrZ04811 for\n",
      "\n",
      "    <zzzz-exmh@example.com>; Thu, 22 Aug 2002 12:34:53 +0100\n",
      "\n",
      "Received: from listman.example.com (localhost.localdomain [127.0.0.1]) by\n",
      "\n",
      "    listman.redhat.com (Postfix) with ESMTP id 8386540858; Thu, 22 Aug 2002\n",
      "\n",
      "    07:35:02 -0400 (EDT)\n",
      "\n",
      "Delivered-To: exmh-workers@listman.example.com\n",
      "\n",
      "Received: from int-mx1.corp.example.com (int-mx1.corp.example.com\n",
      "\n",
      "    [172.16.52.254]) by listman.redhat.com (Postfix) with ESMTP id 10CF8406D7\n",
      "\n",
      "    for <exmh-workers@listman.redhat.com>; Thu, 22 Aug 2002 07:34:10 -0400\n",
      "\n",
      "    (EDT)\n",
      "\n",
      "Received: (from mail@localhost) by int-mx1.corp.example.com (8.11.6/8.11.6)\n",
      "\n",
      "    id g7MBY7g11259 for exmh-workers@listman.redhat.com; Thu, 22 Aug 2002\n",
      "\n",
      "    07:34:07 -0400\n",
      "\n",
      "Received: from mx1.example.com (mx1.example.com [172.16.48.31]) by\n",
      "\n",
      "    int-mx1.corp.redhat.com (8.11.6/8.11.6) with SMTP id g7MBY7Y11255 for\n",
      "\n",
      "    <exmh-workers@redhat.com>; Thu, 22 Aug 2002 07:34:07 -0400\n",
      "\n",
      "Received: from ratree.psu.ac.th ([202.28.97.6]) by mx1.example.com\n",
      "\n",
      "    (8.11.6/8.11.6) with SMTP id g7MBIhl25223 for <exmh-workers@redhat.com>;\n",
      "\n",
      "    Thu, 22 Aug 2002 07:18:55 -0400\n",
      "\n",
      "Received: from delta.cs.mu.OZ.AU (delta.coe.psu.ac.th [172.30.0.98]) by\n",
      "\n",
      "    ratree.psu.ac.th (8.11.6/8.11.6) with ESMTP id g7MBWel29762;\n",
      "\n",
      "    Thu, 22 Aug 2002 18:32:40 +0700 (ICT)\n",
      "\n",
      "Received: from munnari.OZ.AU (localhost [127.0.0.1]) by delta.cs.mu.OZ.AU\n",
      "\n",
      "    (8.11.6/8.11.6) with ESMTP id g7MBQPW13260; Thu, 22 Aug 2002 18:26:25\n",
      "\n",
      "    +0700 (ICT)\n",
      "\n",
      "From: Robert Elz <kre@munnari.OZ.AU>\n",
      "\n",
      "To: Chris Garrigues <cwg-dated-1030377287.06fa6d@DeepEddy.Com>\n",
      "\n",
      "Cc: exmh-workers@example.com\n",
      "\n",
      "Subject: Re: New Sequences Window\n",
      "\n",
      "In-Reply-To: <1029945287.4797.TMDA@deepeddy.vircio.com>\n",
      "\n",
      "References: <1029945287.4797.TMDA@deepeddy.vircio.com>\n",
      "\n",
      "    <1029882468.3116.TMDA@deepeddy.vircio.com> <9627.1029933001@munnari.OZ.AU>\n",
      "\n",
      "    <1029943066.26919.TMDA@deepeddy.vircio.com>\n",
      "\n",
      "    <1029944441.398.TMDA@deepeddy.vircio.com>\n",
      "\n",
      "MIME-Version: 1.0\n",
      "\n",
      "Content-Type: text/plain; charset=us-ascii\n",
      "\n",
      "Message-Id: <13258.1030015585@munnari.OZ.AU>\n",
      "\n",
      "X-Loop: exmh-workers@example.com\n",
      "\n",
      "Sender: exmh-workers-admin@example.com\n",
      "\n",
      "Errors-To: exmh-workers-admin@example.com\n",
      "\n",
      "X-Beenthere: exmh-workers@example.com\n",
      "\n",
      "X-Mailman-Version: 2.0.1\n",
      "\n",
      "Precedence: bulk\n",
      "\n",
      "List-Help: <mailto:exmh-workers-request@example.com?subject=help>\n",
      "\n",
      "List-Post: <mailto:exmh-workers@example.com>\n",
      "\n",
      "List-Subscribe: <https://listman.example.com/mailman/listinfo/exmh-workers>,\n",
      "\n",
      "    <mailto:exmh-workers-request@redhat.com?subject=subscribe>\n",
      "\n",
      "List-Id: Discussion list for EXMH developers <exmh-workers.example.com>\n",
      "\n",
      "List-Unsubscribe: <https://listman.example.com/mailman/listinfo/exmh-workers>,\n",
      "\n",
      "    <mailto:exmh-workers-request@redhat.com?subject=unsubscribe>\n",
      "\n",
      "List-Archive: <https://listman.example.com/mailman/private/exmh-workers/>\n",
      "\n",
      "Date: Thu, 22 Aug 2002 18:26:25 +0700\n",
      "\n",
      "\n",
      "\n",
      "    Date:        Wed, 21 Aug 2002 10:54:46 -0500\n",
      "\n",
      "    From:        Chris Garrigues <cwg-dated-1030377287.06fa6d@DeepEddy.Com>\n",
      "\n",
      "    Message-ID:  <1029945287.4797.TMDA@deepeddy.vircio.com>\n",
      "\n",
      "\n",
      "\n",
      "\n",
      "\n",
      "  | I can't reproduce this error.\n",
      "\n",
      "\n",
      "\n",
      "For me it is very repeatable... (like every time, without fail).\n",
      "\n",
      "\n",
      "\n",
      "This is the debug log of the pick happening ...\n",
      "\n",
      "\n",
      "\n",
      "18:19:03 Pick_It {exec pick +inbox -list -lbrace -lbrace -subject ftp -rbrace -rbrace} {4852-4852 -sequence mercury}\n",
      "\n",
      "18:19:03 exec pick +inbox -list -lbrace -lbrace -subject ftp -rbrace -rbrace 4852-4852 -sequence mercury\n",
      "\n",
      "18:19:04 Ftoc_PickMsgs {{1 hit}}\n",
      "\n",
      "18:19:04 Marking 1 hits\n",
      "\n",
      "18:19:04 tkerror: syntax error in expression \"int ...\n",
      "\n",
      "\n",
      "\n",
      "Note, if I run the pick command by hand ...\n",
      "\n",
      "\n",
      "\n",
      "delta$ pick +inbox -list -lbrace -lbrace -subject ftp -rbrace -rbrace  4852-4852 -sequence mercury\n",
      "\n",
      "1 hit\n",
      "\n",
      "\n",
      "\n",
      "That's where the \"1 hit\" comes from (obviously).  The version of nmh I'm\n",
      "\n",
      "using is ...\n",
      "\n",
      "\n",
      "\n",
      "delta$ pick -version\n",
      "\n",
      "pick -- nmh-1.0.4 [compiled on fuchsia.cs.mu.OZ.AU at Sun Mar 17 14:55:56 ICT 2002]\n",
      "\n",
      "\n",
      "\n",
      "And the relevant part of my .mh_profile ...\n",
      "\n",
      "\n",
      "\n",
      "delta$ mhparam pick\n",
      "\n",
      "-seq sel -list\n",
      "\n",
      "\n",
      "\n",
      "\n",
      "\n",
      "Since the pick command works, the sequence (actually, both of them, the\n",
      "\n",
      "one that's explicit on the command line, from the search popup, and the\n",
      "\n",
      "one that comes from .mh_profile) do get created.\n",
      "\n",
      "\n",
      "\n",
      "kre\n",
      "\n",
      "\n",
      "\n",
      "ps: this is still using the version of the code form a day ago, I haven't\n",
      "\n",
      "been able to reach the cvs repository today (local routing issue I think).\n",
      "\n",
      "\n",
      "\n",
      "\n",
      "\n",
      "\n",
      "\n",
      "_______________________________________________\n",
      "\n",
      "Exmh-workers mailing list\n",
      "\n",
      "Exmh-workers@redhat.com\n",
      "\n",
      "https://listman.redhat.com/mailman/listinfo/exmh-workers\n",
      "\n",
      "\n",
      "\n"
     ]
    }
   ],
   "source": [
    "with open(glob.glob(path)[0],'r') as file: #the 'r' tells python to read the file only.\n",
    "    for line in file:\n",
    "        print(line)"
   ]
  },
  {
   "cell_type": "markdown",
   "metadata": {},
   "source": [
    "There is a tremendous amount of information in each email. To keep this project in scope, let's just use the subject line as our predictor. We need to use string commands from the `re` package to extract the subject line from each file. We will create a list of the subject line, the predictor, and the class of the email, spam or not. We determine class from the folder name. \n",
    "\n",
    "The command `re.sub` requires a regular expression. We will use `^Subject` as this tells the function we want to find  at the start of the string, https://docs.python.org/2/library/re.html. The method `strip` takes out the white spaces at the beginning and end of the string.\n",
    "\n",
    "To read in the files we will use `latin1` codec because the default and standard `utf-8` produce an error. We could ignore the error as well. To see more information on this go to http://balusc.omnifaces.org/2009/05/unicode-how-to-get-characters-right.html"
   ]
  },
  {
   "cell_type": "code",
   "execution_count": 6,
   "metadata": {},
   "outputs": [
    {
     "name": "stdout",
     "output_type": "stream",
     "text": [
      "3302  Files read\n",
      "3300 Subject lines read\n"
     ]
    }
   ],
   "source": [
    "file_read = 0\n",
    "subject_line=0\n",
    "data=[]\n",
    "for fn in glob.glob(path):\n",
    "    is_spam = \"ham\" not in fn\n",
    "    file_read +=1\n",
    "    with open(fn,'r',encoding = 'latin1') as file:\n",
    "        # could use errors='ignore' instead of encoding\n",
    "        #print(\"In \",fn) #if we want to troubleshoot\n",
    "        for line in file:\n",
    "            if line.startswith(\"Subject:\"):\n",
    "                subject_line +=1\n",
    "                #print(\"Subject line: \",subject_line) #if we want to trouble shoot\n",
    "                subject=re.sub(r\"^Subject: \",\"\",line).strip()\n",
    "                data.append((subject,is_spam))\n",
    "                break # don't read any more lines some files have more than one subject line\n",
    "print(file_read,\" Files read\")\n",
    "print(subject_line, \"Subject lines read\")"
   ]
  },
  {
   "cell_type": "markdown",
   "metadata": {},
   "source": [
    "We had to make sure not to read a second subject line, for instance in the orginal email was copied on the reply. We also had two files that did not contain a subject line. We could investigate this but we will just use the 3300 files that we read."
   ]
  },
  {
   "cell_type": "markdown",
   "metadata": {},
   "source": [
    "Printing out the first 10 elements of the data list gives an idea of the emails' subject lines."
   ]
  },
  {
   "cell_type": "code",
   "execution_count": 7,
   "metadata": {},
   "outputs": [
    {
     "data": {
      "text/plain": [
       "[('Re: New Sequences Window', False),\n",
       " ('[zzzzteana] RE: Alexander', False),\n",
       " ('[zzzzteana] Moscow bomber', False),\n",
       " (\"[IRR] Klez: The Virus That  Won't Die\", False),\n",
       " ('Re: Insert signature', False),\n",
       " ('Re: [zzzzteana] Nothing like mama used to make', False),\n",
       " ('Re: [zzzzteana] Nothing like mama used to make', False),\n",
       " ('[zzzzteana] Playboy wants to go out with a bang', False),\n",
       " ('Re: [zzzzteana] Nothing like mama used to make', False),\n",
       " ('[zzzzteana] Meaningful sentences', False)]"
      ]
     },
     "execution_count": 7,
     "metadata": {},
     "output_type": "execute_result"
    }
   ],
   "source": [
    "data[:10]"
   ]
  },
  {
   "cell_type": "markdown",
   "metadata": {},
   "source": [
    "We are not sure what zzzzteana means and whether it is only associated with ham. This may be something we remove later."
   ]
  },
  {
   "cell_type": "code",
   "execution_count": 8,
   "metadata": {},
   "outputs": [
    {
     "data": {
      "text/plain": [
       "3300"
      ]
     },
     "execution_count": 8,
     "metadata": {},
     "output_type": "execute_result"
    }
   ],
   "source": [
    "len(data) # Number of emails with subject lines"
   ]
  },
  {
   "cell_type": "code",
   "execution_count": 9,
   "metadata": {},
   "outputs": [
    {
     "data": {
      "text/plain": [
       "500"
      ]
     },
     "execution_count": 9,
     "metadata": {},
     "output_type": "execute_result"
    }
   ],
   "source": [
    "sum(list(zip(*data))[1]) #Number of spam emails"
   ]
  },
  {
   "cell_type": "code",
   "execution_count": 10,
   "metadata": {},
   "outputs": [
    {
     "name": "stdout",
     "output_type": "stream",
     "text": [
      "Percentage of spam emails in data: 13.16%\n"
     ]
    }
   ],
   "source": [
    "# Proportion of spam emails in data\n",
    "print(\"Percentage of spam emails in data: \"+\"{:.2%}\".format(500/(500+3300)))"
   ]
  },
  {
   "cell_type": "markdown",
   "metadata": {},
   "source": [
    "### 4. Feature Engineering  \n",
    "\n",
    "We are dealing with string data as our predictor. We first need to clean it up. The choices we make here will potentially have a big impact on the quality of the model. Ideally we would go back and test the sensitivity of our results to these choices.\n",
    "\n",
    "First we will make all the text lower case. This will ensure that words such as Free and free are viewed as equivalent. This may not be a good idea for spam detection as a word in all capital letters might be more indicative of spam.  \n",
    "\n",
    "We will be dealing with frequencies in this project but we could also try other ideas such as vector encoding and n-grams."
   ]
  },
  {
   "cell_type": "markdown",
   "metadata": {},
   "source": [
    "#### Clean Data\n",
    "\n",
    "We will first get the subject lines in a standard format with lower cases, no punctuation, and the removal of stopwords."
   ]
  },
  {
   "cell_type": "code",
   "execution_count": 11,
   "metadata": {},
   "outputs": [
    {
     "data": {
      "text/plain": [
       "'free'"
      ]
     },
     "execution_count": 11,
     "metadata": {},
     "output_type": "execute_result"
    }
   ],
   "source": [
    "# Example of the function we need.\n",
    "'FREE'.lower()"
   ]
  },
  {
   "cell_type": "markdown",
   "metadata": {},
   "source": [
    "Next, we need to tokenize our string. This means to split the string into a list of words. This requires the use of regular expressions, https://docs.python.org/2/library/re.html. \n",
    "\n",
    "As an example, we will use the first ten subject lines of the data object."
   ]
  },
  {
   "cell_type": "code",
   "execution_count": 12,
   "metadata": {},
   "outputs": [
    {
     "name": "stdout",
     "output_type": "stream",
     "text": [
      "['re', 'new', 'sequences', 'window']\n",
      "['zzzzteana', 're', 'alexander']\n",
      "['zzzzteana', 'moscow', 'bomber']\n",
      "['irr', 'klez', 'the', 'virus', 'that', \"won't\", 'die']\n",
      "['re', 'insert', 'signature']\n",
      "['re', 'zzzzteana', 'nothing', 'like', 'mama', 'used', 'to', 'make']\n",
      "['re', 'zzzzteana', 'nothing', 'like', 'mama', 'used', 'to', 'make']\n",
      "['zzzzteana', 'playboy', 'wants', 'to', 'go', 'out', 'with', 'a', 'bang']\n",
      "['re', 'zzzzteana', 'nothing', 'like', 'mama', 'used', 'to', 'make']\n",
      "['zzzzteana', 'meaningful', 'sentences']\n"
     ]
    }
   ],
   "source": [
    "for subject, is_spam in data[:10]:\n",
    "    print(re.findall(\"[a-z0-9']+\",subject.lower()))"
   ]
  },
  {
   "cell_type": "markdown",
   "metadata": {},
   "source": [
    "Finally, it is a common step in text preparation to remove common words, called stop words, for example the word the. These words are common and tend not to aid in prediction. \n",
    "\n",
    "An easy source for these words comes from the `nltk`, natural language toolkit, package."
   ]
  },
  {
   "cell_type": "code",
   "execution_count": 13,
   "metadata": {},
   "outputs": [
    {
     "name": "stdout",
     "output_type": "stream",
     "text": [
      "['i', 'me', 'my', 'myself', 'we', 'our', 'ours', 'ourselves']\n"
     ]
    }
   ],
   "source": [
    "import nltk\n",
    "# Getting the English stop words from nltk\n",
    "stop_words = nltk.corpus.stopwords.words('english')\n",
    "\n",
    "# Printing out the first eight stop words\n",
    "print(stop_words[:8])\n",
    "\n",
    "#We will convert our stopwords to a set as set lookup is much faster\n",
    "\n",
    "stop_words = set(stop_words)"
   ]
  },
  {
   "cell_type": "markdown",
   "metadata": {},
   "source": [
    "We will now remove the the stopwords and test some code to see the changes in the subject lines. We will do this for the first 5 subject lines."
   ]
  },
  {
   "cell_type": "code",
   "execution_count": 14,
   "metadata": {},
   "outputs": [
    {
     "name": "stdout",
     "output_type": "stream",
     "text": [
      "Original subject line:  Re: New Sequences Window\n",
      "Split line:  ['re', 'new', 'sequences', 'window']\n",
      "Clean line:  ['new', 'sequences', 'window']\n",
      "Original subject line:  [zzzzteana] RE: Alexander\n",
      "Split line:  ['zzzzteana', 're', 'alexander']\n",
      "Clean line:  ['zzzzteana', 'alexander']\n",
      "Original subject line:  [zzzzteana] Moscow bomber\n",
      "Split line:  ['zzzzteana', 'moscow', 'bomber']\n",
      "Clean line:  ['zzzzteana', 'moscow', 'bomber']\n",
      "Original subject line:  [IRR] Klez: The Virus That  Won't Die\n",
      "Split line:  ['irr', 'klez', 'the', 'virus', 'that', \"won't\", 'die']\n",
      "Clean line:  ['irr', 'klez', 'virus', 'die']\n",
      "Original subject line:  Re: Insert signature\n",
      "Split line:  ['re', 'insert', 'signature']\n",
      "Clean line:  ['insert', 'signature']\n"
     ]
    }
   ],
   "source": [
    "for subject, is_spam in data[:5]:\n",
    "    final_words = []\n",
    "    print(\"Original subject line: \",subject)\n",
    "    print(\"Split line: \",re.findall(\"[a-z0-9']+\",subject.lower()))\n",
    "    words = re.findall(\"[a-z0-9']+\",subject.lower())\n",
    "    [final_words.append(word) for word in words if word not in stop_words]\n",
    "    print(\"Clean line: \",final_words)"
   ]
  },
  {
   "cell_type": "markdown",
   "metadata": {},
   "source": [
    "#### Subject Line Frequency  \n",
    "\n",
    "Before going further with inference or prediction, let's summarize the data. We want to count the total number of times a word occurrs in a subject line separately in both the spam and ham data sets. We need to count the word once per subject line."
   ]
  },
  {
   "cell_type": "markdown",
   "metadata": {},
   "source": [
    "First, let's write a function that will tokenize our data, remove stop words, and remove duplicates."
   ]
  },
  {
   "cell_type": "code",
   "execution_count": 15,
   "metadata": {},
   "outputs": [],
   "source": [
    "def token(subject,sw):\n",
    "    words = re.findall(\"[a-z0-9']+\",subject.lower())\n",
    "    return set([word for word in words if word not in sw])"
   ]
  },
  {
   "cell_type": "code",
   "execution_count": 16,
   "metadata": {},
   "outputs": [
    {
     "name": "stdout",
     "output_type": "stream",
     "text": [
      "{'irr', 'virus', 'klez', 'die'}\n"
     ]
    }
   ],
   "source": [
    "# Test the function\n",
    "print(token(data[3][0],stop_words))"
   ]
  },
  {
   "cell_type": "markdown",
   "metadata": {},
   "source": [
    "Let's count the words seperately in the spam and ham data and look for patterns. Our tokenize function returns a list so that when we iterate over all the subject lines we will return a list of lists. As a final step, we need to flatten the list. We will experiment with some code first."
   ]
  },
  {
   "cell_type": "code",
   "execution_count": 17,
   "metadata": {},
   "outputs": [
    {
     "name": "stdout",
     "output_type": "stream",
     "text": [
      "List after using token:  [{'life', 'insurance', 'pay'}, {'10', '30', '12', 'guaranteed', 'lose', 'ilug', 'days', 'lbs', '206'}, {'10', '30', '12', '150', 'guaranteed', 'lose', 'days', 'lbs', '11'}] \n",
      "\n",
      "The flattened list:  ['life', 'insurance', 'pay', '10', '30', '12', 'guaranteed', 'lose', 'ilug', 'days', 'lbs', '206', '10', '30', '12', '150', 'guaranteed', 'lose', 'days', 'lbs', '11']\n"
     ]
    }
   ],
   "source": [
    "# Illustrate the code using the first 3 subject lines\n",
    "#Get the subject lines for spam\n",
    "spam_subjects = [i for i,v in data if v]\n",
    "#Tokenize and then append\n",
    "spam_words=[]\n",
    "for subject in spam_subjects[:3]:\n",
    "    spam_words.append(token(subject,stop_words))\n",
    "print(\"List after using token: \",spam_words,\"\\n\")\n",
    "#Create one long list of words\n",
    "spam_words = [item for sublist in spam_words for item in sublist]\n",
    "print(\"The flattened list: \",spam_words)"
   ]
  },
  {
   "cell_type": "code",
   "execution_count": 18,
   "metadata": {},
   "outputs": [],
   "source": [
    "#Run for all the spam emails\n",
    "#Get the subject lines for spam\n",
    "spam_subjects = [i for i,v in data if v]\n",
    "#Tokenize and then append\n",
    "spam_words=[]\n",
    "for subject in spam_subjects:\n",
    "    spam_words.append(token(subject,stop_words))\n",
    "spam_words = [item for sublist in spam_words for item in sublist]"
   ]
  },
  {
   "cell_type": "code",
   "execution_count": 19,
   "metadata": {},
   "outputs": [],
   "source": [
    "#This code counts the words using a dictionary structure\n",
    "spam_word_count={}\n",
    "for word in spam_words:\n",
    "    if word in spam_word_count:\n",
    "        spam_word_count[word] +=1\n",
    "    else:\n",
    "        spam_word_count[word]=1"
   ]
  },
  {
   "cell_type": "markdown",
   "metadata": {},
   "source": [
    "As a test, we can use get the counts, values, for a word, key."
   ]
  },
  {
   "cell_type": "code",
   "execution_count": 20,
   "metadata": {},
   "outputs": [
    {
     "data": {
      "text/plain": [
       "32"
      ]
     },
     "execution_count": 20,
     "metadata": {},
     "output_type": "execute_result"
    }
   ],
   "source": [
    "spam_word_count['free']"
   ]
  },
  {
   "cell_type": "code",
   "execution_count": 21,
   "metadata": {},
   "outputs": [
    {
     "data": {
      "image/png": "[encoded data removed]",
      "text/plain": [
       "<matplotlib.figure.Figure at 0x1d57adf5860>"
      ]
     },
     "metadata": {},
     "output_type": "display_data"
    }
   ],
   "source": [
    "# We could also do this with the nltk package Let's not put this in the project!\n",
    "# Creating the word frequency distribution\n",
    "freqdist = nltk.FreqDist(spam_words)\n",
    "\n",
    "# Plotting the word frequency distribution\n",
    "freqdist.plot(25)"
   ]
  },
  {
   "cell_type": "code",
   "execution_count": 22,
   "metadata": {},
   "outputs": [
    {
     "data": {
      "image/png": "[encoded data removed]",
      "text/plain": [
       "<matplotlib.figure.Figure at 0x1d57aea7ac8>"
      ]
     },
     "metadata": {},
     "output_type": "display_data"
    }
   ],
   "source": [
    "freqdist.plot(25,cumulative=True)"
   ]
  },
  {
   "cell_type": "code",
   "execution_count": 23,
   "metadata": {},
   "outputs": [
    {
     "data": {
      "text/plain": [
       "2408"
      ]
     },
     "execution_count": 23,
     "metadata": {},
     "output_type": "execute_result"
    }
   ],
   "source": [
    "# The total number of spam words\n",
    "freqdist.N()"
   ]
  },
  {
   "cell_type": "markdown",
   "metadata": {},
   "source": [
    "Let's do the same thing with the table function from the `datascience` package."
   ]
  },
  {
   "cell_type": "code",
   "execution_count": 24,
   "metadata": {},
   "outputs": [
    {
     "data": {
      "text/html": [
       "<table border=\"1\" class=\"dataframe\">\n",
       "    <thead>\n",
       "        <tr>\n",
       "            <th>Words</th> <th>Spam Count</th>\n",
       "        </tr>\n",
       "    </thead>\n",
       "    <tbody>\n",
       "        <tr>\n",
       "            <td>ilug </td> <td>46        </td>\n",
       "        </tr>\n",
       "    </tbody>\n",
       "        <tr>\n",
       "            <td>free </td> <td>32        </td>\n",
       "        </tr>\n",
       "    </tbody>\n",
       "        <tr>\n",
       "            <td>get  </td> <td>20        </td>\n",
       "        </tr>\n",
       "    </tbody>\n",
       "        <tr>\n",
       "            <td>adv  </td> <td>20        </td>\n",
       "        </tr>\n",
       "    </tbody>\n",
       "        <tr>\n",
       "            <td>rates</td> <td>18        </td>\n",
       "        </tr>\n",
       "    </tbody>\n",
       "</table>\n",
       "<p>... (1130 rows omitted)</p>"
      ],
      "text/plain": [
       "<IPython.core.display.HTML object>"
      ]
     },
     "metadata": {},
     "output_type": "display_data"
    }
   ],
   "source": [
    "# Using the datascience package to get counts and frequency\n",
    "spam_table = ds.Table().with_columns(\"Words\",spam_words)\n",
    "spam_word_counts = spam_table.group('Words').sort('count',descending=True).relabel('count','Spam Count')\n",
    "spam_word_counts.show(5)"
   ]
  },
  {
   "cell_type": "markdown",
   "metadata": {},
   "source": [
    "Next we want to create a column that has the subject line frequency of each word. This is the percentage of subject lines in the spam emails that contain the word of interest. We also sort the table from most frequent to least frequent."
   ]
  },
  {
   "cell_type": "code",
   "execution_count": 25,
   "metadata": {},
   "outputs": [
    {
     "data": {
      "text/html": [
       "<table border=\"1\" class=\"dataframe\">\n",
       "    <thead>\n",
       "        <tr>\n",
       "            <th>Words</th> <th>Spam Count</th> <th>Spam Subject Line Frequency</th>\n",
       "        </tr>\n",
       "    </thead>\n",
       "    <tbody>\n",
       "        <tr>\n",
       "            <td>ilug       </td> <td>46        </td> <td>0.0920                     </td>\n",
       "        </tr>\n",
       "    </tbody>\n",
       "        <tr>\n",
       "            <td>free       </td> <td>32        </td> <td>0.0640                     </td>\n",
       "        </tr>\n",
       "    </tbody>\n",
       "        <tr>\n",
       "            <td>get        </td> <td>20        </td> <td>0.0400                     </td>\n",
       "        </tr>\n",
       "    </tbody>\n",
       "        <tr>\n",
       "            <td>adv        </td> <td>20        </td> <td>0.0400                     </td>\n",
       "        </tr>\n",
       "    </tbody>\n",
       "        <tr>\n",
       "            <td>rates      </td> <td>18        </td> <td>0.0360                     </td>\n",
       "        </tr>\n",
       "    </tbody>\n",
       "        <tr>\n",
       "            <td>home       </td> <td>18        </td> <td>0.0360                     </td>\n",
       "        </tr>\n",
       "    </tbody>\n",
       "        <tr>\n",
       "            <td>money      </td> <td>17        </td> <td>0.0340                     </td>\n",
       "        </tr>\n",
       "    </tbody>\n",
       "        <tr>\n",
       "            <td>best       </td> <td>17        </td> <td>0.0340                     </td>\n",
       "        </tr>\n",
       "    </tbody>\n",
       "        <tr>\n",
       "            <td>systemworks</td> <td>15        </td> <td>0.0300                     </td>\n",
       "        </tr>\n",
       "    </tbody>\n",
       "        <tr>\n",
       "            <td>2002       </td> <td>15        </td> <td>0.0300                     </td>\n",
       "        </tr>\n",
       "    </tbody>\n",
       "</table>\n",
       "<p>... (1125 rows omitted)</p>"
      ],
      "text/plain": [
       "Words       | Spam Count | Spam Subject Line Frequency\n",
       "ilug        | 46         | 0.0920\n",
       "free        | 32         | 0.0640\n",
       "get         | 20         | 0.0400\n",
       "adv         | 20         | 0.0400\n",
       "rates       | 18         | 0.0360\n",
       "home        | 18         | 0.0360\n",
       "money       | 17         | 0.0340\n",
       "best        | 17         | 0.0340\n",
       "systemworks | 15         | 0.0300\n",
       "2002        | 15         | 0.0300\n",
       "... (1125 rows omitted)"
      ]
     },
     "execution_count": 25,
     "metadata": {},
     "output_type": "execute_result"
    }
   ],
   "source": [
    "spam_word_counts = spam_word_counts.with_column('Spam Subject Line Frequency',spam_word_counts.column('Spam Count')/500).\\\n",
    "set_format(\"Spam Subject Line Frequency\", ds.NumberFormatter(decimals=4))\n",
    "spam_word_counts"
   ]
  },
  {
   "cell_type": "markdown",
   "metadata": {},
   "source": [
    "To summarize, 9.2% of the subject lines in the spam emails contain the word ilug. As a reminder, the vocabulary of words in the spam subject line consists of 2408 words where 1135 are unique words."
   ]
  },
  {
   "cell_type": "code",
   "execution_count": 26,
   "metadata": {},
   "outputs": [
    {
     "data": {
      "text/plain": [
       "1135"
      ]
     },
     "execution_count": 26,
     "metadata": {},
     "output_type": "execute_result"
    }
   ],
   "source": [
    "spam_word_counts.num_rows"
   ]
  },
  {
   "cell_type": "code",
   "execution_count": 27,
   "metadata": {},
   "outputs": [
    {
     "data": {
      "text/plain": [
       "2408"
      ]
     },
     "execution_count": 27,
     "metadata": {},
     "output_type": "execute_result"
    }
   ],
   "source": [
    "sum(spam_word_counts.column('Spam Count'))"
   ]
  },
  {
   "cell_type": "code",
   "execution_count": 28,
   "metadata": {},
   "outputs": [
    {
     "data": {
      "text/html": [
       "<table border=\"1\" class=\"dataframe\">\n",
       "    <thead>\n",
       "        <tr>\n",
       "            <th>Words</th> <th>Spam Count</th> <th>Spam Subject Line Frequency</th>\n",
       "        </tr>\n",
       "    </thead>\n",
       "    <tbody>\n",
       "        <tr>\n",
       "            <td>zzzzason</td> <td>1         </td> <td>0.0020                     </td>\n",
       "        </tr>\n",
       "    </tbody>\n",
       "        <tr>\n",
       "            <td>zzzz8969</td> <td>1         </td> <td>0.0020                     </td>\n",
       "        </tr>\n",
       "    </tbody>\n",
       "        <tr>\n",
       "            <td>zbm     </td> <td>1         </td> <td>0.0020                     </td>\n",
       "        </tr>\n",
       "    </tbody>\n",
       "        <tr>\n",
       "            <td>ytu855  </td> <td>1         </td> <td>0.0020                     </td>\n",
       "        </tr>\n",
       "    </tbody>\n",
       "        <tr>\n",
       "            <td>yr      </td> <td>1         </td> <td>0.0020                     </td>\n",
       "        </tr>\n",
       "    </tbody>\n",
       "        <tr>\n",
       "            <td>youth   </td> <td>1         </td> <td>0.0020                     </td>\n",
       "        </tr>\n",
       "    </tbody>\n",
       "        <tr>\n",
       "            <td>younger </td> <td>1         </td> <td>0.0020                     </td>\n",
       "        </tr>\n",
       "    </tbody>\n",
       "        <tr>\n",
       "            <td>york    </td> <td>1         </td> <td>0.0020                     </td>\n",
       "        </tr>\n",
       "    </tbody>\n",
       "        <tr>\n",
       "            <td>yeni    </td> <td>1         </td> <td>0.0020                     </td>\n",
       "        </tr>\n",
       "    </tbody>\n",
       "        <tr>\n",
       "            <td>ya      </td> <td>1         </td> <td>0.0020                     </td>\n",
       "        </tr>\n",
       "    </tbody>\n",
       "</table>\n",
       "<p>... (720 rows omitted)</p>"
      ],
      "text/plain": [
       "Words    | Spam Count | Spam Subject Line Frequency\n",
       "zzzzason | 1          | 0.0020\n",
       "zzzz8969 | 1          | 0.0020\n",
       "zbm      | 1          | 0.0020\n",
       "ytu855   | 1          | 0.0020\n",
       "yr       | 1          | 0.0020\n",
       "youth    | 1          | 0.0020\n",
       "younger  | 1          | 0.0020\n",
       "york     | 1          | 0.0020\n",
       "yeni     | 1          | 0.0020\n",
       "ya       | 1          | 0.0020\n",
       "... (720 rows omitted)"
      ]
     },
     "execution_count": 28,
     "metadata": {},
     "output_type": "execute_result"
    }
   ],
   "source": [
    "spam_word_counts.where('Spam Count',1)"
   ]
  },
  {
   "cell_type": "markdown",
   "metadata": {},
   "source": [
    "To visualize the results, we will use a bar chart."
   ]
  },
  {
   "cell_type": "code",
   "execution_count": 29,
   "metadata": {},
   "outputs": [
    {
     "data": {
      "image/png": "[encoded data removed]",
      "text/plain": [
       "<matplotlib.figure.Figure at 0x1d57b17a630>"
      ]
     },
     "metadata": {},
     "output_type": "display_data"
    }
   ],
   "source": [
    "spam_word_counts.take(np.arange(15)).barh('Words',select=\"Spam Subject Line Frequency\")"
   ]
  },
  {
   "cell_type": "markdown",
   "metadata": {},
   "source": [
    "Next we will repeat for ham."
   ]
  },
  {
   "cell_type": "code",
   "execution_count": 30,
   "metadata": {},
   "outputs": [
    {
     "data": {
      "text/plain": [
       "['sequences', 'window', 'new', 'alexander', 'zzzzteana', 'bomber']"
      ]
     },
     "execution_count": 30,
     "metadata": {},
     "output_type": "execute_result"
    }
   ],
   "source": [
    "#Repeat for ham\n",
    "ham_subjects = [i for i,v in data if not v]\n",
    "#Tokenize and then append\n",
    "ham_words=[]\n",
    "for subject in ham_subjects:\n",
    "    ham_words.append(token(subject,stop_words))\n",
    "ham_words = [item for sublist in ham_words for item in sublist]\n",
    "ham_words[:6]"
   ]
  },
  {
   "cell_type": "code",
   "execution_count": 31,
   "metadata": {},
   "outputs": [
    {
     "data": {
      "text/html": [
       "<table border=\"1\" class=\"dataframe\">\n",
       "    <thead>\n",
       "        <tr>\n",
       "            <th>Words</th> <th>Ham Count</th>\n",
       "        </tr>\n",
       "    </thead>\n",
       "    <tbody>\n",
       "        <tr>\n",
       "            <td>satalk   </td> <td>141      </td>\n",
       "        </tr>\n",
       "    </tbody>\n",
       "        <tr>\n",
       "            <td>spambayes</td> <td>135      </td>\n",
       "        </tr>\n",
       "    </tbody>\n",
       "        <tr>\n",
       "            <td>new      </td> <td>117      </td>\n",
       "        </tr>\n",
       "    </tbody>\n",
       "        <tr>\n",
       "            <td>users    </td> <td>108      </td>\n",
       "        </tr>\n",
       "    </tbody>\n",
       "        <tr>\n",
       "            <td>2        </td> <td>108      </td>\n",
       "        </tr>\n",
       "    </tbody>\n",
       "        <tr>\n",
       "            <td>ilug     </td> <td>94       </td>\n",
       "        </tr>\n",
       "    </tbody>\n",
       "        <tr>\n",
       "            <td>use      </td> <td>91       </td>\n",
       "        </tr>\n",
       "    </tbody>\n",
       "        <tr>\n",
       "            <td>razor    </td> <td>91       </td>\n",
       "        </tr>\n",
       "    </tbody>\n",
       "        <tr>\n",
       "            <td>2002     </td> <td>89       </td>\n",
       "        </tr>\n",
       "    </tbody>\n",
       "        <tr>\n",
       "            <td>zzzzteana</td> <td>87       </td>\n",
       "        </tr>\n",
       "    </tbody>\n",
       "</table>\n",
       "<p>... (3717 rows omitted)</p>"
      ],
      "text/plain": [
       "Words     | Ham Count\n",
       "satalk    | 141\n",
       "spambayes | 135\n",
       "new       | 117\n",
       "users     | 108\n",
       "2         | 108\n",
       "ilug      | 94\n",
       "use       | 91\n",
       "razor     | 91\n",
       "2002      | 89\n",
       "zzzzteana | 87\n",
       "... (3717 rows omitted)"
      ]
     },
     "execution_count": 31,
     "metadata": {},
     "output_type": "execute_result"
    }
   ],
   "source": [
    "# Creating a datatable\n",
    "ham_table = ds.Table().with_columns(\"Words\",ham_words)\n",
    "ham_word_counts = ham_table.group('Words').sort('count',descending=True).relabel('count','Ham Count')\n",
    "ham_word_counts"
   ]
  },
  {
   "cell_type": "code",
   "execution_count": 32,
   "metadata": {},
   "outputs": [
    {
     "data": {
      "text/html": [
       "<table border=\"1\" class=\"dataframe\">\n",
       "    <thead>\n",
       "        <tr>\n",
       "            <th>Words</th> <th>Ham Count</th> <th>Ham Subject Line Frequency</th>\n",
       "        </tr>\n",
       "    </thead>\n",
       "    <tbody>\n",
       "        <tr>\n",
       "            <td>satalk   </td> <td>141      </td> <td>0.0504                    </td>\n",
       "        </tr>\n",
       "    </tbody>\n",
       "        <tr>\n",
       "            <td>spambayes</td> <td>135      </td> <td>0.0482                    </td>\n",
       "        </tr>\n",
       "    </tbody>\n",
       "        <tr>\n",
       "            <td>new      </td> <td>117      </td> <td>0.0418                    </td>\n",
       "        </tr>\n",
       "    </tbody>\n",
       "        <tr>\n",
       "            <td>users    </td> <td>108      </td> <td>0.0386                    </td>\n",
       "        </tr>\n",
       "    </tbody>\n",
       "        <tr>\n",
       "            <td>2        </td> <td>108      </td> <td>0.0386                    </td>\n",
       "        </tr>\n",
       "    </tbody>\n",
       "        <tr>\n",
       "            <td>ilug     </td> <td>94       </td> <td>0.0336                    </td>\n",
       "        </tr>\n",
       "    </tbody>\n",
       "        <tr>\n",
       "            <td>use      </td> <td>91       </td> <td>0.0325                    </td>\n",
       "        </tr>\n",
       "    </tbody>\n",
       "        <tr>\n",
       "            <td>razor    </td> <td>91       </td> <td>0.0325                    </td>\n",
       "        </tr>\n",
       "    </tbody>\n",
       "        <tr>\n",
       "            <td>2002     </td> <td>89       </td> <td>0.0318                    </td>\n",
       "        </tr>\n",
       "    </tbody>\n",
       "        <tr>\n",
       "            <td>zzzzteana</td> <td>87       </td> <td>0.0311                    </td>\n",
       "        </tr>\n",
       "    </tbody>\n",
       "</table>\n",
       "<p>... (3717 rows omitted)</p>"
      ],
      "text/plain": [
       "Words     | Ham Count | Ham Subject Line Frequency\n",
       "satalk    | 141       | 0.0504\n",
       "spambayes | 135       | 0.0482\n",
       "new       | 117       | 0.0418\n",
       "users     | 108       | 0.0386\n",
       "2         | 108       | 0.0386\n",
       "ilug      | 94        | 0.0336\n",
       "use       | 91        | 0.0325\n",
       "razor     | 91        | 0.0325\n",
       "2002      | 89        | 0.0318\n",
       "zzzzteana | 87        | 0.0311\n",
       "... (3717 rows omitted)"
      ]
     },
     "execution_count": 32,
     "metadata": {},
     "output_type": "execute_result"
    }
   ],
   "source": [
    "ham_word_counts = ham_word_counts.with_column('Ham Subject Line Frequency',ham_word_counts.column('Ham Count')/(3300-500)).\\\n",
    "set_format(\"Ham Subject Line Frequency\", ds.NumberFormatter(decimals=4))\n",
    "ham_word_counts"
   ]
  },
  {
   "cell_type": "code",
   "execution_count": 33,
   "metadata": {},
   "outputs": [
    {
     "data": {
      "image/png": "[encoded data removed]",
      "text/plain": [
       "<matplotlib.figure.Figure at 0x1d57b1a2b70>"
      ]
     },
     "metadata": {},
     "output_type": "display_data"
    }
   ],
   "source": [
    "ham_word_counts.take(np.arange(15)).barh('Words',select=\"Ham Subject Line Frequency\")"
   ]
  },
  {
   "cell_type": "code",
   "execution_count": 34,
   "metadata": {},
   "outputs": [
    {
     "data": {
      "text/plain": [
       "12163"
      ]
     },
     "execution_count": 34,
     "metadata": {},
     "output_type": "execute_result"
    }
   ],
   "source": [
    "sum(ham_word_counts.column('Ham Count'))"
   ]
  },
  {
   "cell_type": "code",
   "execution_count": 35,
   "metadata": {},
   "outputs": [
    {
     "data": {
      "text/plain": [
       "3727"
      ]
     },
     "execution_count": 35,
     "metadata": {},
     "output_type": "execute_result"
    }
   ],
   "source": [
    "ham_word_counts.num_rows #Number of unique words in ham subject lines"
   ]
  },
  {
   "cell_type": "markdown",
   "metadata": {},
   "source": [
    "There are 12163 words in the ham email subject lines of which 3727 are unique. We will have many words that only appear once."
   ]
  },
  {
   "cell_type": "code",
   "execution_count": 36,
   "metadata": {},
   "outputs": [
    {
     "data": {
      "text/html": [
       "<table border=\"1\" class=\"dataframe\">\n",
       "    <thead>\n",
       "        <tr>\n",
       "            <th>Words</th> <th>Ham Count</th> <th>Ham Subject Line Frequency</th>\n",
       "        </tr>\n",
       "    </thead>\n",
       "    <tbody>\n",
       "        <tr>\n",
       "            <td>zoo     </td> <td>1        </td> <td>0.0004                    </td>\n",
       "        </tr>\n",
       "    </tbody>\n",
       "        <tr>\n",
       "            <td>zone    </td> <td>1        </td> <td>0.0004                    </td>\n",
       "        </tr>\n",
       "    </tbody>\n",
       "        <tr>\n",
       "            <td>zombies </td> <td>1        </td> <td>0.0004                    </td>\n",
       "        </tr>\n",
       "    </tbody>\n",
       "        <tr>\n",
       "            <td>zen     </td> <td>1        </td> <td>0.0004                    </td>\n",
       "        </tr>\n",
       "    </tbody>\n",
       "        <tr>\n",
       "            <td>zealots </td> <td>1        </td> <td>0.0004                    </td>\n",
       "        </tr>\n",
       "    </tbody>\n",
       "        <tr>\n",
       "            <td>yup     </td> <td>1        </td> <td>0.0004                    </td>\n",
       "        </tr>\n",
       "    </tbody>\n",
       "        <tr>\n",
       "            <td>youth   </td> <td>1        </td> <td>0.0004                    </td>\n",
       "        </tr>\n",
       "    </tbody>\n",
       "        <tr>\n",
       "            <td>youngest</td> <td>1        </td> <td>0.0004                    </td>\n",
       "        </tr>\n",
       "    </tbody>\n",
       "        <tr>\n",
       "            <td>yoga    </td> <td>1        </td> <td>0.0004                    </td>\n",
       "        </tr>\n",
       "    </tbody>\n",
       "        <tr>\n",
       "            <td>yet     </td> <td>1        </td> <td>0.0004                    </td>\n",
       "        </tr>\n",
       "    </tbody>\n",
       "</table>\n",
       "<p>... (2152 rows omitted)</p>"
      ],
      "text/plain": [
       "Words    | Ham Count | Ham Subject Line Frequency\n",
       "zoo      | 1         | 0.0004\n",
       "zone     | 1         | 0.0004\n",
       "zombies  | 1         | 0.0004\n",
       "zen      | 1         | 0.0004\n",
       "zealots  | 1         | 0.0004\n",
       "yup      | 1         | 0.0004\n",
       "youth    | 1         | 0.0004\n",
       "youngest | 1         | 0.0004\n",
       "yoga     | 1         | 0.0004\n",
       "yet      | 1         | 0.0004\n",
       "... (2152 rows omitted)"
      ]
     },
     "execution_count": 36,
     "metadata": {},
     "output_type": "execute_result"
    }
   ],
   "source": [
    "ham_word_counts.where('Ham Count',1)"
   ]
  },
  {
   "cell_type": "markdown",
   "metadata": {},
   "source": [
    "As a reminder, in the spam subject line there are 1135 unique words while there are 3727 in the ham. When we merge these data sets there will only be partial overlap."
   ]
  },
  {
   "cell_type": "code",
   "execution_count": 37,
   "metadata": {},
   "outputs": [
    {
     "data": {
      "text/plain": [
       "1135"
      ]
     },
     "execution_count": 37,
     "metadata": {},
     "output_type": "execute_result"
    }
   ],
   "source": [
    "spam_word_counts.num_rows #Number of unique words in spam subject lines"
   ]
  },
  {
   "cell_type": "code",
   "execution_count": 38,
   "metadata": {},
   "outputs": [
    {
     "data": {
      "text/plain": [
       "3727"
      ]
     },
     "execution_count": 38,
     "metadata": {},
     "output_type": "execute_result"
    }
   ],
   "source": [
    "ham_word_counts.num_rows #Number of unique words in ham subject lines"
   ]
  },
  {
   "cell_type": "markdown",
   "metadata": {},
   "source": [
    "There are many more words in the ham subject lines than in the spam subject lines. We need to get one table with the words and counts. This will increase the number of rows for the spam. The built-in join function from the `datascience` package only performs an inner joining. We need to perform an outer join. We cannot determine how to do this with the join function from `datascience` so let's convert the table to pandas dataframes and then perform an outer join, see https://www.shanelynn.ie/merge-join-dataframes-python-pandas-index-1/. By default, pandas repalces missing values with NaN, not a number. We must replace those missing values with 0. Finally, we can convert back to a datascience table."
   ]
  },
  {
   "cell_type": "code",
   "execution_count": 39,
   "metadata": {},
   "outputs": [
    {
     "data": {
      "text/html": [
       "<table border=\"1\" class=\"dataframe\">\n",
       "    <thead>\n",
       "        <tr>\n",
       "            <th>Words</th> <th>Ham Count</th> <th>Ham Subject Line Frequency</th> <th>Spam Count</th> <th>Spam Subject Line Frequency</th>\n",
       "        </tr>\n",
       "    </thead>\n",
       "    <tbody>\n",
       "        <tr>\n",
       "            <td>satalk   </td> <td>141      </td> <td>0.0503571                 </td> <td>1         </td> <td>0.002                      </td>\n",
       "        </tr>\n",
       "    </tbody>\n",
       "        <tr>\n",
       "            <td>spambayes</td> <td>135      </td> <td>0.0482143                 </td> <td>0         </td> <td>0                          </td>\n",
       "        </tr>\n",
       "    </tbody>\n",
       "        <tr>\n",
       "            <td>new      </td> <td>117      </td> <td>0.0417857                 </td> <td>13        </td> <td>0.026                      </td>\n",
       "        </tr>\n",
       "    </tbody>\n",
       "        <tr>\n",
       "            <td>users    </td> <td>108      </td> <td>0.0385714                 </td> <td>0         </td> <td>0                          </td>\n",
       "        </tr>\n",
       "    </tbody>\n",
       "        <tr>\n",
       "            <td>2        </td> <td>108      </td> <td>0.0385714                 </td> <td>3         </td> <td>0.006                      </td>\n",
       "        </tr>\n",
       "    </tbody>\n",
       "        <tr>\n",
       "            <td>ilug     </td> <td>94       </td> <td>0.0335714                 </td> <td>46        </td> <td>0.092                      </td>\n",
       "        </tr>\n",
       "    </tbody>\n",
       "        <tr>\n",
       "            <td>use      </td> <td>91       </td> <td>0.0325                    </td> <td>2         </td> <td>0.004                      </td>\n",
       "        </tr>\n",
       "    </tbody>\n",
       "        <tr>\n",
       "            <td>razor    </td> <td>91       </td> <td>0.0325                    </td> <td>0         </td> <td>0                          </td>\n",
       "        </tr>\n",
       "    </tbody>\n",
       "        <tr>\n",
       "            <td>2002     </td> <td>89       </td> <td>0.0317857                 </td> <td>15        </td> <td>0.03                       </td>\n",
       "        </tr>\n",
       "    </tbody>\n",
       "        <tr>\n",
       "            <td>zzzzteana</td> <td>87       </td> <td>0.0310714                 </td> <td>0         </td> <td>0                          </td>\n",
       "        </tr>\n",
       "    </tbody>\n",
       "</table>\n",
       "<p>... (4401 rows omitted)</p>"
      ],
      "text/plain": [
       "Words     | Ham Count | Ham Subject Line Frequency | Spam Count | Spam Subject Line Frequency\n",
       "satalk    | 141       | 0.0503571                  | 1          | 0.002\n",
       "spambayes | 135       | 0.0482143                  | 0          | 0\n",
       "new       | 117       | 0.0417857                  | 13         | 0.026\n",
       "users     | 108       | 0.0385714                  | 0          | 0\n",
       "2         | 108       | 0.0385714                  | 3          | 0.006\n",
       "ilug      | 94        | 0.0335714                  | 46         | 0.092\n",
       "use       | 91        | 0.0325                     | 2          | 0.004\n",
       "razor     | 91        | 0.0325                     | 0          | 0\n",
       "2002      | 89        | 0.0317857                  | 15         | 0.03\n",
       "zzzzteana | 87        | 0.0310714                  | 0          | 0\n",
       "... (4401 rows omitted)"
      ]
     },
     "execution_count": 39,
     "metadata": {},
     "output_type": "execute_result"
    }
   ],
   "source": [
    "# Convert data.science table to pandas dataframe\n",
    "word_counts = pd.merge(ham_word_counts.to_df(),spam_word_counts.to_df(),how=\"outer\").fillna(0)\n",
    "word_counts = ds.Table.from_df(word_counts)\n",
    "word_counts"
   ]
  },
  {
   "cell_type": "markdown",
   "metadata": {},
   "source": [
    "Let's visualize the results by looking at the most common words in the ham subject lines."
   ]
  },
  {
   "cell_type": "code",
   "execution_count": 40,
   "metadata": {},
   "outputs": [
    {
     "data": {
      "image/png": "[encoded data removed]",
      "text/plain": [
       "<matplotlib.figure.Figure at 0x1d57b3e0b38>"
      ]
     },
     "metadata": {},
     "output_type": "display_data"
    }
   ],
   "source": [
    "word_counts.take(np.arange(10)).select('Words','Ham Subject Line Frequency','Spam Subject Line Frequency').barh('Words')"
   ]
  },
  {
   "cell_type": "markdown",
   "metadata": {},
   "source": [
    "Now, the same visualization but with the most common words in the spam emails. Notice that we switch colors of spam and ham in this second plot."
   ]
  },
  {
   "cell_type": "code",
   "execution_count": 41,
   "metadata": {},
   "outputs": [
    {
     "data": {
      "image/png": "[encoded data removed]",
      "text/plain": [
       "<matplotlib.figure.Figure at 0x1d57b1874e0>"
      ]
     },
     "metadata": {},
     "output_type": "display_data"
    }
   ],
   "source": [
    "word_counts.sort('Spam Subject Line Frequency',descending=True).\\\n",
    "take(np.arange(10)).select('Words','Spam Subject Line Frequency','Ham Subject Line Frequency').barh('Words')"
   ]
  },
  {
   "cell_type": "markdown",
   "metadata": {},
   "source": [
    "### 5. Inference\n",
    "\n",
    "From personal experience of recieving many spam emails over the years, we beleive that the word free appears in spam emails much more often than in regular, ham, emails. Let's test this hypothesis using our data.\n",
    "\n",
    "First let's get the data. Nore: We already have a the data in the above plot."
   ]
  },
  {
   "cell_type": "code",
   "execution_count": 42,
   "metadata": {},
   "outputs": [
    {
     "data": {
      "text/html": [
       "<table border=\"1\" class=\"dataframe\">\n",
       "    <thead>\n",
       "        <tr>\n",
       "            <th>Words</th> <th>Ham Count</th> <th>Ham Subject Line Frequency</th> <th>Spam Count</th> <th>Spam Subject Line Frequency</th>\n",
       "        </tr>\n",
       "    </thead>\n",
       "    <tbody>\n",
       "        <tr>\n",
       "            <td>free </td> <td>13       </td> <td>0.00464286                </td> <td>32        </td> <td>0.064                      </td>\n",
       "        </tr>\n",
       "    </tbody>\n",
       "</table>"
      ],
      "text/plain": [
       "Words | Ham Count | Ham Subject Line Frequency | Spam Count | Spam Subject Line Frequency\n",
       "free  | 13        | 0.00464286                 | 32         | 0.064"
      ]
     },
     "execution_count": 42,
     "metadata": {},
     "output_type": "execute_result"
    }
   ],
   "source": [
    "word_counts.where('Words','free')"
   ]
  },
  {
   "cell_type": "markdown",
   "metadata": {},
   "source": [
    "From the intitial section of this analysis, we found that there were 3300 emails of which 500 are spam. Thus 2800 are ham. Let's put this data in a table.\n"
   ]
  },
  {
   "cell_type": "code",
   "execution_count": 43,
   "metadata": {},
   "outputs": [
    {
     "data": {
      "text/html": [
       "<table border=\"1\" class=\"dataframe\">\n",
       "    <thead>\n",
       "        <tr>\n",
       "            <th>Word</th> <th>Type</th> <th>Count</th>\n",
       "        </tr>\n",
       "    </thead>\n",
       "    <tbody>\n",
       "        <tr>\n",
       "            <td>Free   </td> <td>Spam</td> <td>32   </td>\n",
       "        </tr>\n",
       "    </tbody>\n",
       "        <tr>\n",
       "            <td>No Free</td> <td>Spam</td> <td>468  </td>\n",
       "        </tr>\n",
       "    </tbody>\n",
       "        <tr>\n",
       "            <td>Free   </td> <td>Ham </td> <td>13   </td>\n",
       "        </tr>\n",
       "    </tbody>\n",
       "        <tr>\n",
       "            <td>No Free</td> <td>Ham </td> <td>2787 </td>\n",
       "        </tr>\n",
       "    </tbody>\n",
       "</table>"
      ],
      "text/plain": [
       "Word    | Type | Count\n",
       "Free    | Spam | 32\n",
       "No Free | Spam | 468\n",
       "Free    | Ham  | 13\n",
       "No Free | Ham  | 2787"
      ]
     },
     "execution_count": 43,
     "metadata": {},
     "output_type": "execute_result"
    }
   ],
   "source": [
    "free = ds.Table().with_columns('Word', ds.make_array(\"Free\", \"No Free\", \"Free\", \"No Free\")\n",
    "                               , 'Type', ds.make_array(\"Spam\",\"Spam\",\"Ham\",\"Ham\"), \n",
    "                               'Count',  ds.make_array(32, (500 - 32) , 13, (2800 - 13)))\n",
    "free"
   ]
  },
  {
   "cell_type": "markdown",
   "metadata": {},
   "source": [
    "Our hypothesis before collecting and summarizing the data was that the word free would appears in spam emails more frequently than in ham emails. Now we have data that supports this as 6.4% of spam emails contain the word while on ly 0.46% of ham emails contain it. \n",
    "\n",
    "This difference could be due to random chance. Let's perform a hypothesis test to determine the probability of our observed data."
   ]
  },
  {
   "cell_type": "markdown",
   "metadata": {},
   "source": [
    "We now construct the framework for our hypothesis test.\n",
    "\n",
    "> **Null Hypothesis**: Spam emails are equally likely to contain the word \"free\" as ham emails.\n",
    "\n",
    "Under the null hypothesis we assume that the word free does not appear more likely in either ham or spam. Remember that ham is much more common than spam, so we need to be careful about our randomization process. \n",
    "\n",
    "Prior to collecting data, we suspected that free would appear more often in spam emails. The alternative hypothesis is:\n",
    "\n",
    "> **Alternative Hypothesis**: Spam emails are more likely to contain the word \"free\" as compated with ham emails.\n",
    "\n",
    "*Technical note*: The word frequencies are not random samples from any population of emails so we must be careful about generalizing our results.  For example, most people have not recieved an email with the word 'ilug' in it. \n",
    "\n",
    "*Important requirements for our test statistic:* We want to choose a test statistic for which large positive values are evidence in favor of the alternative hypothesis, and other values are evidence in favor of the null hypothesis. This is because once we've determined the direction of our alternative hypothesis, we only care about the tail in that direction. If, for example, our p-value cutoff was 5%, we'd check to see if our observed test statistic fell within the largest 5% of values in our null hypothesis distribution. \n",
    "\n",
    "Our test statistic should depend only on whether free is more common in spam than ham. Thus we choose:\n",
    "\n",
    "> **Test Statistic**: The number of times free appears in the subject line of 500 spam emails minus the number of times free appears in the subject line of 2800 ham emails."
   ]
  },
  {
   "cell_type": "markdown",
   "metadata": {},
   "source": [
    "We need to create a data table to sample from. First we need a list of whether the subject contains free or not and then the email type."
   ]
  },
  {
   "cell_type": "code",
   "execution_count": 44,
   "metadata": {},
   "outputs": [],
   "source": [
    "word_list=[\"Free\"]*32\n",
    "word_list.extend([\"Not Free\"]*468)\n",
    "word_list.extend([\"Free\"]*13)\n",
    "word_list.extend([\"Not Free\"]*2787)\n",
    "email=[\"Spam\"]*500\n",
    "email.extend([\"Ham\"]*2800)"
   ]
  },
  {
   "cell_type": "code",
   "execution_count": 45,
   "metadata": {},
   "outputs": [
    {
     "data": {
      "text/html": [
       "<table border=\"1\" class=\"dataframe\">\n",
       "    <thead>\n",
       "        <tr>\n",
       "            <th>Email</th> <th>Word</th>\n",
       "        </tr>\n",
       "    </thead>\n",
       "    <tbody>\n",
       "        <tr>\n",
       "            <td>Spam </td> <td>Free</td>\n",
       "        </tr>\n",
       "    </tbody>\n",
       "        <tr>\n",
       "            <td>Spam </td> <td>Free</td>\n",
       "        </tr>\n",
       "    </tbody>\n",
       "        <tr>\n",
       "            <td>Spam </td> <td>Free</td>\n",
       "        </tr>\n",
       "    </tbody>\n",
       "        <tr>\n",
       "            <td>Spam </td> <td>Free</td>\n",
       "        </tr>\n",
       "    </tbody>\n",
       "        <tr>\n",
       "            <td>Spam </td> <td>Free</td>\n",
       "        </tr>\n",
       "    </tbody>\n",
       "        <tr>\n",
       "            <td>Spam </td> <td>Free</td>\n",
       "        </tr>\n",
       "    </tbody>\n",
       "        <tr>\n",
       "            <td>Spam </td> <td>Free</td>\n",
       "        </tr>\n",
       "    </tbody>\n",
       "        <tr>\n",
       "            <td>Spam </td> <td>Free</td>\n",
       "        </tr>\n",
       "    </tbody>\n",
       "        <tr>\n",
       "            <td>Spam </td> <td>Free</td>\n",
       "        </tr>\n",
       "    </tbody>\n",
       "        <tr>\n",
       "            <td>Spam </td> <td>Free</td>\n",
       "        </tr>\n",
       "    </tbody>\n",
       "</table>\n",
       "<p>... (3290 rows omitted)</p>"
      ],
      "text/plain": [
       "Email | Word\n",
       "Spam  | Free\n",
       "Spam  | Free\n",
       "Spam  | Free\n",
       "Spam  | Free\n",
       "Spam  | Free\n",
       "Spam  | Free\n",
       "Spam  | Free\n",
       "Spam  | Free\n",
       "Spam  | Free\n",
       "Spam  | Free\n",
       "... (3290 rows omitted)"
      ]
     },
     "execution_count": 45,
     "metadata": {},
     "output_type": "execute_result"
    }
   ],
   "source": [
    "inf_tab = ds.Table().with_columns(\"Email\",email,\"Word\",word_list)\n",
    "inf_tab"
   ]
  },
  {
   "cell_type": "markdown",
   "metadata": {},
   "source": [
    "Now the summary of the data."
   ]
  },
  {
   "cell_type": "code",
   "execution_count": 46,
   "metadata": {},
   "outputs": [
    {
     "data": {
      "text/html": [
       "<table border=\"1\" class=\"dataframe\">\n",
       "    <thead>\n",
       "        <tr>\n",
       "            <th>Email</th> <th>Free</th> <th>Not Free</th>\n",
       "        </tr>\n",
       "    </thead>\n",
       "    <tbody>\n",
       "        <tr>\n",
       "            <td>Ham  </td> <td>13  </td> <td>2787    </td>\n",
       "        </tr>\n",
       "    </tbody>\n",
       "        <tr>\n",
       "            <td>Spam </td> <td>32  </td> <td>468     </td>\n",
       "        </tr>\n",
       "    </tbody>\n",
       "</table>"
      ],
      "text/plain": [
       "Email | Free | Not Free\n",
       "Ham   | 13   | 2787\n",
       "Spam  | 32   | 468"
      ]
     },
     "execution_count": 46,
     "metadata": {},
     "output_type": "execute_result"
    }
   ],
   "source": [
    "inf_tab.pivot(\"Word\",\"Email\")"
   ]
  },
  {
   "cell_type": "markdown",
   "metadata": {},
   "source": [
    "Next we need to calculate our test statistic."
   ]
  },
  {
   "cell_type": "code",
   "execution_count": 47,
   "metadata": {},
   "outputs": [
    {
     "data": {
      "text/plain": [
       "19"
      ]
     },
     "execution_count": 47,
     "metadata": {},
     "output_type": "execute_result"
    }
   ],
   "source": [
    "int(np.diff(inf_tab.pivot(\"Word\",\"Email\").column('Free')))"
   ]
  },
  {
   "cell_type": "markdown",
   "metadata": {},
   "source": [
    "The randomization process must be done carefully. We don't want to take an email and randomly assign the word free as in a coin flip. Instead, if the word free is really independent of the email type then would could shuffle the assignment of the word with the email type. This is how we will do our randomization. \n",
    "\n",
    "First let's experiment with some code."
   ]
  },
  {
   "cell_type": "code",
   "execution_count": 48,
   "metadata": {},
   "outputs": [
    {
     "data": {
      "text/plain": [
       "([1, 1, 1, 2, 2], array([1, 1, 2, 1, 2]))"
      ]
     },
     "execution_count": 48,
     "metadata": {},
     "output_type": "execute_result"
    }
   ],
   "source": [
    "temp=[1,1,1,2,2]\n",
    "temp2=np.random.permutation(temp)\n",
    "temp,temp2"
   ]
  },
  {
   "cell_type": "markdown",
   "metadata": {},
   "source": [
    "Now our randomization scheme."
   ]
  },
  {
   "cell_type": "code",
   "execution_count": 49,
   "metadata": {},
   "outputs": [
    {
     "data": {
      "text/html": [
       "<table border=\"1\" class=\"dataframe\">\n",
       "    <thead>\n",
       "        <tr>\n",
       "            <th>Email</th> <th>Free</th> <th>Not Free</th>\n",
       "        </tr>\n",
       "    </thead>\n",
       "    <tbody>\n",
       "        <tr>\n",
       "            <td>Ham  </td> <td>40  </td> <td>2760    </td>\n",
       "        </tr>\n",
       "    </tbody>\n",
       "        <tr>\n",
       "            <td>Spam </td> <td>5   </td> <td>495     </td>\n",
       "        </tr>\n",
       "    </tbody>\n",
       "</table>"
      ],
      "text/plain": [
       "Email | Free | Not Free\n",
       "Ham   | 40   | 2760\n",
       "Spam  | 5    | 495"
      ]
     },
     "execution_count": 49,
     "metadata": {},
     "output_type": "execute_result"
    }
   ],
   "source": [
    "ds.Table().with_columns(\"Email\",email,\"Word\",np.random.permutation(inf_tab.column('Word'))).pivot(\"Word\",\"Email\")"
   ]
  },
  {
   "cell_type": "code",
   "execution_count": 50,
   "metadata": {},
   "outputs": [
    {
     "data": {
      "text/plain": [
       "-31"
      ]
     },
     "execution_count": 50,
     "metadata": {},
     "output_type": "execute_result"
    }
   ],
   "source": [
    "int(np.diff(ds.Table().with_columns(\"Email\",inf_tab.column('Email'),\"Word\",np.random.permutation(inf_tab.column('Word')))\\\n",
    "        .pivot(\"Word\",\"Email\").column('Free')))"
   ]
  },
  {
   "cell_type": "markdown",
   "metadata": {},
   "source": [
    "Let's create a function to implement our randomization and return of the test statistic."
   ]
  },
  {
   "cell_type": "code",
   "execution_count": 51,
   "metadata": {},
   "outputs": [],
   "source": [
    "def test_stat_simulation(data_tab):\n",
    "    temp = np.diff(ds.Table().with_columns(\"Email\",data_tab.column('Email'),\"Word\",np.\\\n",
    "        random.permutation(data_tab.column('Word')))\\\n",
    "        .pivot(\"Word\",\"Email\").column('Free'))\n",
    "    return int(temp)"
   ]
  },
  {
   "cell_type": "code",
   "execution_count": 52,
   "metadata": {},
   "outputs": [
    {
     "data": {
      "text/plain": [
       "-25"
      ]
     },
     "execution_count": 52,
     "metadata": {},
     "output_type": "execute_result"
    }
   ],
   "source": [
    "test_stat_simulation(inf_tab)"
   ]
  },
  {
   "cell_type": "markdown",
   "metadata": {},
   "source": [
    "Let's repeat the process and see what conclusion we reach."
   ]
  },
  {
   "cell_type": "code",
   "execution_count": 53,
   "metadata": {},
   "outputs": [],
   "source": [
    "def simulate_under_null(num_shuffles,data_tab):\n",
    "    \"\"\"Simulates randomly shuffling the names of ham ans spam where the word free occurrs\n",
    "    \n",
    "    num_shuffles is the number of times to simulate the shuffling.\n",
    "    data_tab is the Table with the data\n",
    "    \"\"\"\n",
    "    test_stat = ds.make_array()\n",
    "    for i in np.arange(num_shuffles):\n",
    "        test_stat = np.append(test_stat,test_stat_simulation(data_tab))\n",
    "    return test_stat"
   ]
  },
  {
   "cell_type": "code",
   "execution_count": 62,
   "metadata": {},
   "outputs": [
    {
     "data": {
      "text/html": [
       "<table border=\"1\" class=\"dataframe\">\n",
       "    <thead>\n",
       "        <tr>\n",
       "            <th>Test statistic under null</th>\n",
       "        </tr>\n",
       "    </thead>\n",
       "    <tbody>\n",
       "        <tr>\n",
       "            <td>-37                      </td>\n",
       "        </tr>\n",
       "    </tbody>\n",
       "        <tr>\n",
       "            <td>-33                      </td>\n",
       "        </tr>\n",
       "    </tbody>\n",
       "        <tr>\n",
       "            <td>-35                      </td>\n",
       "        </tr>\n",
       "    </tbody>\n",
       "        <tr>\n",
       "            <td>-33                      </td>\n",
       "        </tr>\n",
       "    </tbody>\n",
       "        <tr>\n",
       "            <td>-29                      </td>\n",
       "        </tr>\n",
       "    </tbody>\n",
       "        <tr>\n",
       "            <td>-31                      </td>\n",
       "        </tr>\n",
       "    </tbody>\n",
       "        <tr>\n",
       "            <td>-31                      </td>\n",
       "        </tr>\n",
       "    </tbody>\n",
       "        <tr>\n",
       "            <td>-25                      </td>\n",
       "        </tr>\n",
       "    </tbody>\n",
       "        <tr>\n",
       "            <td>-31                      </td>\n",
       "        </tr>\n",
       "    </tbody>\n",
       "        <tr>\n",
       "            <td>-27                      </td>\n",
       "        </tr>\n",
       "    </tbody>\n",
       "</table>\n",
       "<p>... (990 rows omitted)</p>"
      ],
      "text/plain": [
       "Test statistic under null\n",
       "-37\n",
       "-33\n",
       "-35\n",
       "-33\n",
       "-29\n",
       "-31\n",
       "-31\n",
       "-25\n",
       "-31\n",
       "-27\n",
       "... (990 rows omitted)"
      ]
     },
     "execution_count": 62,
     "metadata": {},
     "output_type": "execute_result"
    }
   ],
   "source": [
    "simulated_results = ds.Table().with_column('Test statistic under null', simulate_under_null(1000,inf_tab))\n",
    "simulated_results"
   ]
  },
  {
   "cell_type": "code",
   "execution_count": 63,
   "metadata": {},
   "outputs": [
    {
     "data": {
      "image/png": "[encoded data removed]",
      "text/plain": [
       "<matplotlib.figure.Figure at 0x1e97fafd8d0>"
      ]
     },
     "metadata": {},
     "output_type": "display_data"
    }
   ],
   "source": [
    "simulated_results.hist(0, bins=np.arange(-55, 40, 5))"
   ]
  },
  {
   "cell_type": "markdown",
   "metadata": {},
   "source": [
    "If the null hypothesis were true, then we did not witness a single simulation with a result where the test statistic was positive let alone as high as our observed value of 19. The probability of our observed result is negilible, thus leading us to conclude that the word free appears in spam emails much pften than is expected by chance.  \n",
    "\n",
    "We have to be careful about the assumptions of this test and generalizing the results to a larger population.\n",
    "\n",
    "This test assumes the percentage of spam emails is 13.16% and that the word free appears in a subject line about 1.3% of the time. We did not alter these percentages in the simulation.\n",
    "\n",
    "We also assumed the emails are representative of only those emails in the collections. Generalization to a larger population must be cautioned."
   ]
  },
  {
   "cell_type": "markdown",
   "metadata": {},
   "source": [
    "### 6. Simple Prediction Model"
   ]
  },
  {
   "cell_type": "markdown",
   "metadata": {},
   "source": [
    "We will use the word free to make a simple classifier. Our model is this: if the subject line contains the word free, we will classify it as spam, if not then as ham. Since there is no learning, this is not a machine learning algorithmn. \n",
    "\n",
    "We will use the algorithm on all our data and measure the performance. This will help us explore metrics of performance.\n",
    "\n",
    "The pivot table we derived above gives us all the data we need to explore this simple model."
   ]
  },
  {
   "cell_type": "code",
   "execution_count": 54,
   "metadata": {},
   "outputs": [
    {
     "data": {
      "text/html": [
       "<table border=\"1\" class=\"dataframe\">\n",
       "    <thead>\n",
       "        <tr>\n",
       "            <th>Email</th> <th>Free</th> <th>Not Free</th>\n",
       "        </tr>\n",
       "    </thead>\n",
       "    <tbody>\n",
       "        <tr>\n",
       "            <td>Ham  </td> <td>13  </td> <td>2787    </td>\n",
       "        </tr>\n",
       "    </tbody>\n",
       "        <tr>\n",
       "            <td>Spam </td> <td>32  </td> <td>468     </td>\n",
       "        </tr>\n",
       "    </tbody>\n",
       "</table>"
      ],
      "text/plain": [
       "Email | Free | Not Free\n",
       "Ham   | 13   | 2787\n",
       "Spam  | 32   | 468"
      ]
     },
     "execution_count": 54,
     "metadata": {},
     "output_type": "execute_result"
    }
   ],
   "source": [
    "inf_tab.pivot(\"Word\",\"Email\")"
   ]
  },
  {
   "cell_type": "markdown",
   "metadata": {},
   "source": [
    "The predicted outcome is to predict spam if the subject line contains the the word free. Thus the column called Free could be called Predict Free and the column Not Free would be Predict Ham. If we, arbitarily, call the case of a spam email having the word free as a positive result, then we have 32 true positives. We have 2787 true negatives, 13 false positive, and 468 false negatives. \n",
    "\n",
    "One measure of performance is accuracy, how many predictions were correct out of the total. Accuracy is\n",
    "\n",
    "$$\n",
    "{(TP + FN) \\over (TP + TN + FP + FN)}\n",
    "$$"
   ]
  },
  {
   "cell_type": "code",
   "execution_count": 55,
   "metadata": {},
   "outputs": [
    {
     "name": "stdout",
     "output_type": "stream",
     "text": [
      "Accuracy is: 85.42%\n"
     ]
    }
   ],
   "source": [
    "print(\"Accuracy is: {:.2%}\".format((32+2787)/(13+32+2787+468)))"
   ]
  },
  {
   "cell_type": "markdown",
   "metadata": {},
   "source": [
    "This seems impressive, our model was 85.4% accurate.  Remember most of the emails are ham. We could just classify all emails as ham. This leads to an accuracy almost as impressive."
   ]
  },
  {
   "cell_type": "code",
   "execution_count": 56,
   "metadata": {},
   "outputs": [
    {
     "name": "stdout",
     "output_type": "stream",
     "text": [
      "Accuracy for calling everything ham is: 84.85%\n"
     ]
    }
   ],
   "source": [
    "print(\"Accuracy for calling everything ham is: {:.2%}\".format((13+2787)/(13+32+2787+468)))"
   ]
  },
  {
   "cell_type": "markdown",
   "metadata": {},
   "source": [
    "Other metrics are the recall and precision. \n",
    "\n",
    "Recall is the percentage of all true spam emails that we correctly classified.\n",
    "$$\n",
    "{TP \\over (TP + FN)}\n",
    "$$\n",
    "and precision is the precentage of all predicted spam emails that we correctly classified.\n",
    "\n",
    "$$\n",
    "{TP \\over (TP + FP)}\n",
    "$$"
   ]
  },
  {
   "cell_type": "code",
   "execution_count": 57,
   "metadata": {},
   "outputs": [
    {
     "name": "stdout",
     "output_type": "stream",
     "text": [
      "Precision is: 6.40%\n",
      "Recall is: 71.11%\n"
     ]
    }
   ],
   "source": [
    "print(\"Precision is: {:.2%}\".format((32)/(32+468)))\n",
    "print(\"Recall is: {:.2%}\".format((32)/(32+13)))"
   ]
  },
  {
   "cell_type": "markdown",
   "metadata": {},
   "source": [
    "Of the emails that were spam, we only indentified 6.4% of them with our model. \n",
    "\n",
    "Of all the emails we called spam, 71.11% were spam. \n",
    "\n",
    "These metrics gives a much different impression of the classifier.\n",
    "\n",
    "We can combine these as a geometric mean to get a single number, this is called the $F_{1}$ score and is\n",
    "$$\n",
    "F_{1}={1 \\over {1 \\over Precision} + {1 \\over Recall}}\n",
    "$$"
   ]
  },
  {
   "cell_type": "code",
   "execution_count": 58,
   "metadata": {},
   "outputs": [
    {
     "name": "stdout",
     "output_type": "stream",
     "text": [
      "F1 score is: 5.87%\n"
     ]
    }
   ],
   "source": [
    "precision = (32)/(32+468)\n",
    "recall = (32)/(32+13)\n",
    "print(\"F1 score is: {:.2%}\".format(1/(1/precision+1/recall)))"
   ]
  },
  {
   "cell_type": "markdown",
   "metadata": {},
   "source": [
    "This is not a good classifier because we are missing so many of the spam emails."
   ]
  },
  {
   "cell_type": "markdown",
   "metadata": {},
   "source": [
    "As preparation for our naive Bayes classifier, let's look at our results from a probability perspective."
   ]
  },
  {
   "cell_type": "markdown",
   "metadata": {},
   "source": [
    "Let's use the table to make some probability calculations. We can estimate probabilities from this table. We have\n",
    "$$ P({\\rm Free}~| ~{\\rm Spam}) = {P({\\rm Free} \\cap {\\rm Spam}) \\over P({\\rm Spam})} = {32 \\over 500}$$  \n",
    "\n",
    "$$ P({\\rm Free}~| ~{\\rm Ham}) = {P({\\rm Free} \\cap {\\rm Ham}) \\over P({\\rm Ham})} = {13 \\over 2800}$$  \n",
    "\n",
    "$$ P({\\rm Spam}) = {500 \\over 3300}$$  \n",
    "\n",
    "$$ P({\\rm Ham}) = {2800 \\over 3300}$$  \n",
    "\n",
    "We could have looked these next ones up but we will use Bayes Theorem.  \n",
    "\n",
    "$$ P({\\rm Spam}~| ~{\\rm Free}) = {P({\\rm Free} \\cap {\\rm Spam}) \\over P({\\rm Free})} = {P({\\rm Free}~| ~{\\rm Spam})P({\\rm Spam}) \\over P({\\rm Free})} = {32 \\over 45}$$\n",
    "where\n",
    "$$P({\\rm Free})= P({\\rm Free}~| ~{\\rm Spam})P({\\rm Spam}) + P({\\rm Free}~| ~{\\rm Spam})P({\\rm Spam})$$"
   ]
  },
  {
   "cell_type": "code",
   "execution_count": 59,
   "metadata": {},
   "outputs": [],
   "source": [
    "# Test the ideas\n",
    "fgs=32/500\n",
    "fgh=13/2800\n",
    "s=500/3300\n",
    "h=2800/3300"
   ]
  },
  {
   "cell_type": "code",
   "execution_count": 60,
   "metadata": {},
   "outputs": [
    {
     "name": "stdout",
     "output_type": "stream",
     "text": [
      "The probability of an email being spam given it contains the word free is: 71.11%\n"
     ]
    }
   ],
   "source": [
    "print(\"The probability of an email being spam given it contains the word free is: {:.2%}\".format(fgs*s/(fgs*s+fgh*h)))"
   ]
  },
  {
   "cell_type": "markdown",
   "metadata": {},
   "source": [
    "To make the model more sophisticated, we could add a second word such as get. The issue here is the we will have to estimate\n",
    "$$P({\\rm Free} \\cap {\\rm Get}~ | ~{\\rm Spam})$$  \n",
    "\n",
    "$$P({\\rm Free} \\cap {\\rm Not}~{\\rm Get} ~| ~{\\rm Spam})$$  \n",
    "\n",
    "$$P({\\rm Not}~{\\rm Free} \\cap {\\rm Get} ~ | ~{\\rm Spam})$$  \n",
    "\n",
    "$$P({\\rm Not}~{\\rm Free} \\cap {\\rm Not}~{\\rm Get} ~ | ~{\\rm Spam})$$  \n",
    "\n",
    "and likewise for ham. This starts to get difficult quickly. \n",
    "\n",
    "A simplifying assumption is needed to reduce the computational difficulty."
   ]
  },
  {
   "cell_type": "markdown",
   "metadata": {},
   "source": [
    "### 7. Naive Bayes Classification"
   ]
  },
  {
   "cell_type": "markdown",
   "metadata": {},
   "source": [
    "Naive Bayes models are based on an extreme assumption of conditional independence. They are fast and easy to implement. They work well with high dimensional data. They work reasonably well in text applications and thus are why we are exploring them. There are really no tuning parameters so learning is easy. They make a great starting point for a baseline and sometimes are used as the final model.\n",
    "\n",
    "This section will implement a naive Bayes model for our spam classification problem."
   ]
  },
  {
   "cell_type": "markdown",
   "metadata": {},
   "source": [
    "### Bayesian Classification\n",
    "\n",
    "This section is based on notes from http://nbviewer.jupyter.org/github/jakevdp/PythonDataScienceHandbook/blob/master/notebooks/05.05-Naive-Bayes.ipynb\n",
    "\n",
    "Naive Bayes is a Bayesian classification method; these methods use Bayes theorem. We explored this at the end of Section 6.\n",
    "\n",
    "In Bayesian classification, we're interested in finding the probability of a label given some observed features, which we can write as $P(L~|~{\\rm features})$.\n",
    "Bayes's theorem tells us how to express this in terms of quantities we can compute more directly:\n",
    "\n",
    "$$\n",
    "P(L~|~{\\rm features}) = \\frac{P({\\rm features}~|~L)P(L)}{P({\\rm features})}\n",
    "$$\n",
    "\n",
    "When we write $P({\\rm features})$ we mean a joint probability, for example $P({\\rm Free} \\cap {\\rm Get})$.\n",
    "\n",
    "It is only the numerator that matters as the denominator will be the same in all calculations for the different labels.\n",
    "\n",
    "For example, suppose we are trying to decide between two labels—let's call them $L_1$ and $L_2$—then one way to make this decision is to compute the ratio of the posterior probabilities for each label:\n",
    "\n",
    "$$\n",
    "\\frac{P(L_1~|~{\\rm features})}{P(L_2~|~{\\rm features})} = \\frac{P({\\rm features}~|~L_1)}{P({\\rm features}~|~L_2)}\\frac{P(L_1)}{P(L_2)}\n",
    "$$\n",
    "\n",
    "Notice that the denominator does not matter. If the ratio is great than one, then $P(L_1~|~{\\rm features})$ is larger and you would select $L_{1}$ as the predicted outcome. You don't need to find the ratio, you simply need to find the maximum of $P({\\rm features}~|~L_i)$ for each label.\n",
    "\n",
    "Next we need an algorithm to compute $P({\\rm features}~|~L_i)$ for each label. We could do a lookup table as we did in section 6 but once we start adding many features this becomes too computationally expensive. The different assumptions about this calculation leads to the different types of Bayesian classifiers. In the naive Bayes, we make the assumption of conditional independence. This means within each label, for example a spam email, each word is independent of the others. This is clearly not going to be the case. \n",
    "\n",
    "To implement a naive Bayes classifier, we must only calculated the within label univariate density, for continuous features, or probability, for discrete. The joint distribution is found by multiply these univariate distributions. Once the univariate distributions have been estimated, the posterior calcuaton is fast. For discrete text data, we only need to estimate the frequency of each word in each label. Then for multiple words we calculate the joint probability as the product of these individual probabilities. For example\n",
    "$$P({\\rm Free} \\cap {\\rm Get}~ | ~{\\rm Spam}) = P({\\rm Free}~ | ~{\\rm Spam})P({\\rm Get}~ | ~{\\rm Spam})$$  \n",
    "\n",
    "There are still some logistical issues to resolve. first, what is a word does not appear in a subject line? This would lead to a zero estiamted probability and thus the joint probability would be zero as well. A solution to this problem is to use a psuedocount. This is determined as follows:\n",
    "\n",
    "$$P({\\rm Word}~ |~ {\\rm Spam}) = {\\mbox{Number of times Word apperas in Subject line} + k \\over \\mbox{Number of Subject lines} +2k}$$  \n",
    "\n",
    "where $k$ does not need to be an integer.\n",
    "\n",
    "Second, when we estimate these probabilities, they tend to be small. If the subject has many words, then the product will be extrememly small. We can handle this by working with logarithms.\n",
    "\n",
    "Finally, we need to get our training and test data. We will attack this next."
   ]
  },
  {
   "cell_type": "markdown",
   "metadata": {},
   "source": [
    "#### Test and Training Data\n",
    "\n",
    "We will divide the data into testing and training data. We have a couple of concerns. Since spam emails are rare, we need to make sure our sampling method selects enough of them. Second it may be the case that the testing set contains a word not in the training set. In this case we can just ignore it or develop a larger vocabulary then is in the training. We will just ignore the word in our analysis.\n",
    "\n",
    "Let's start by writing a function to sample our data.\n",
    "\n",
    "As a reminder, we will start with the raw data we read at the begining of the project."
   ]
  },
  {
   "cell_type": "code",
   "execution_count": 82,
   "metadata": {},
   "outputs": [
    {
     "name": "stdout",
     "output_type": "stream",
     "text": [
      "[('[zzzzteana] RE: Alexander', False), ('[zzzzteana] Moscow bomber', False), (\"[IRR] Klez: The Virus That  Won't Die\", False), ('Re: Insert signature', False)]\n"
     ]
    },
    {
     "data": {
      "text/plain": [
       "[('Re: New Sequences Window', False)]"
      ]
     },
     "execution_count": 82,
     "metadata": {},
     "output_type": "execute_result"
    }
   ],
   "source": [
    "#Sample code\n",
    "results=[],[]\n",
    "for line in data[:5]:\n",
    "    cutpoint = np.random.rand()\n",
    "    if cutpoint < .75:\n",
    "        results[0].append(line)\n",
    "    else:\n",
    "       results[1].append(line) \n",
    "train,test = results\n",
    "print(train)\n",
    "test"
   ]
  },
  {
   "cell_type": "code",
   "execution_count": 110,
   "metadata": {},
   "outputs": [],
   "source": [
    "#More condensed code\n",
    "np.random.seed(2019)\n",
    "results=[],[]\n",
    "for line in data:\n",
    "    cutpoint = np.random.rand() < .8\n",
    "    results[0 if cutpoint else 1].append(line)\n",
    "train,test = results"
   ]
  },
  {
   "cell_type": "code",
   "execution_count": 111,
   "metadata": {},
   "outputs": [
    {
     "name": "stdout",
     "output_type": "stream",
     "text": [
      "Number of training data points:  2661\n",
      "Percent of data in training: 80.64%\n",
      "Number of Spam in training:  399\n",
      "Percent of Spam in training: 14.99%\n",
      "Number of testing data points:  639\n",
      "Number of Spam in testing:  101\n",
      "Percent of Spam in testing: 15.81%\n"
     ]
    }
   ],
   "source": [
    "# Report Summary of spliting\n",
    "print(\"Number of training data points: \",len(train))\n",
    "print(\"Percent of data in training: {:.2%}\".format(len(train)/3300))\n",
    "print(\"Number of Spam in training: \",sum(list(zip(*train))[1]))\n",
    "print(\"Percent of Spam in training: {:.2%}\".format(sum(list(zip(*train))[1])/len(train)))\n",
    "print(\"Number of testing data points: \",len(test))\n",
    "print(\"Number of Spam in testing: \",sum(list(zip(*test))[1]))\n",
    "print(\"Percent of Spam in testing: {:.2%}\".format(sum(list(zip(*test))[1])/len(test)))"
   ]
  },
  {
   "cell_type": "markdown",
   "metadata": {},
   "source": [
    "#### Process the data"
   ]
  },
  {
   "cell_type": "code",
   "execution_count": 151,
   "metadata": {},
   "outputs": [],
   "source": [
    "def get_train_summary(train):\n",
    "    \"\"\"\n",
    "    Returns training data summary as a tuple of total, spam, ham.\n",
    "    \n",
    "    train is a list of tuples where first tuple is subject and second is boolean\n",
    "    \"\"\"\n",
    "    num_train=len(train)\n",
    "    num_spam_train = sum(list(zip(*train))[1])\n",
    "    num_ham_train = num_train - num_spam_train\n",
    "    return num_train,num_spam_train,num_ham_train"
   ]
  },
  {
   "cell_type": "code",
   "execution_count": 150,
   "metadata": {},
   "outputs": [
    {
     "name": "stdout",
     "output_type": "stream",
     "text": [
      "2661\n",
      "399\n",
      "2262\n"
     ]
    }
   ],
   "source": [
    "num_train,num_spam_train,num_ham_train=get_train_summary(train)\n",
    "print(num_train)\n",
    "print(num_spam_train)\n",
    "print(num_ham_train)"
   ]
  },
  {
   "cell_type": "code",
   "execution_count": 156,
   "metadata": {},
   "outputs": [],
   "source": [
    "def count_words(train):\n",
    "    \"\"\"\n",
    "    Returns a tuple of tables, first is spam word counts and second is ham\n",
    "    \n",
    "    train is a list of tuples where first tuple is subject and second is boolean\n",
    "    \"\"\"\n",
    "    # Get spam subject line and tokenize it\n",
    "    spam_subjects2 = [token(i,stop_words) for i,v in train if v]\n",
    "    # Flatten the list\n",
    "    temp_spam_words = [item for sublist in spam_subjects2 for item in sublist]\n",
    "    # Make the list a table\n",
    "    temp_spam_table = ds.Table().with_columns(\"Words\",temp_spam_words)\n",
    "    # Count the words\n",
    "    temp_spam_word_counts = temp_spam_table.group('Words').sort('count',descending=True).relabel('count','Spam Count')\n",
    "    # Repeat for ham\n",
    "    ham_subjects2 = [token(i,stop_words) for i,v in train if not v]\n",
    "    temp_ham_words = [item for sublist in ham_subjects2 for item in sublist]\n",
    "    temp_ham_table = ds.Table().with_columns(\"Words\",temp_ham_words)\n",
    "    temp_ham_word_counts = temp_ham_table.group('Words').sort('count',descending=True).relabel('count','Ham Count')\n",
    "    return temp_spam_word_counts,temp_ham_word_counts"
   ]
  },
  {
   "cell_type": "code",
   "execution_count": 157,
   "metadata": {},
   "outputs": [],
   "source": [
    "temps,temph=count_words(train)"
   ]
  },
  {
   "cell_type": "code",
   "execution_count": 158,
   "metadata": {},
   "outputs": [
    {
     "data": {
      "text/html": [
       "<table border=\"1\" class=\"dataframe\">\n",
       "    <thead>\n",
       "        <tr>\n",
       "            <th>Words</th> <th>Ham Count</th>\n",
       "        </tr>\n",
       "    </thead>\n",
       "    <tbody>\n",
       "        <tr>\n",
       "            <td>satalk   </td> <td>108      </td>\n",
       "        </tr>\n",
       "    </tbody>\n",
       "        <tr>\n",
       "            <td>spambayes</td> <td>102      </td>\n",
       "        </tr>\n",
       "    </tbody>\n",
       "        <tr>\n",
       "            <td>new      </td> <td>94       </td>\n",
       "        </tr>\n",
       "    </tbody>\n",
       "        <tr>\n",
       "            <td>2        </td> <td>88       </td>\n",
       "        </tr>\n",
       "    </tbody>\n",
       "        <tr>\n",
       "            <td>users    </td> <td>86       </td>\n",
       "        </tr>\n",
       "    </tbody>\n",
       "        <tr>\n",
       "            <td>use      </td> <td>80       </td>\n",
       "        </tr>\n",
       "    </tbody>\n",
       "        <tr>\n",
       "            <td>razor    </td> <td>73       </td>\n",
       "        </tr>\n",
       "    </tbody>\n",
       "        <tr>\n",
       "            <td>zzzzteana</td> <td>70       </td>\n",
       "        </tr>\n",
       "    </tbody>\n",
       "        <tr>\n",
       "            <td>ilug     </td> <td>70       </td>\n",
       "        </tr>\n",
       "    </tbody>\n",
       "        <tr>\n",
       "            <td>2002     </td> <td>69       </td>\n",
       "        </tr>\n",
       "    </tbody>\n",
       "</table>\n",
       "<p>... (3317 rows omitted)</p>"
      ],
      "text/plain": [
       "Words     | Ham Count\n",
       "satalk    | 108\n",
       "spambayes | 102\n",
       "new       | 94\n",
       "2         | 88\n",
       "users     | 86\n",
       "use       | 80\n",
       "razor     | 73\n",
       "zzzzteana | 70\n",
       "ilug      | 70\n",
       "2002      | 69\n",
       "... (3317 rows omitted)"
      ]
     },
     "execution_count": 158,
     "metadata": {},
     "output_type": "execute_result"
    }
   ],
   "source": [
    "temph"
   ]
  },
  {
   "cell_type": "code",
   "execution_count": 162,
   "metadata": {},
   "outputs": [
    {
     "data": {
      "text/plain": [
       "9832"
      ]
     },
     "execution_count": 162,
     "metadata": {},
     "output_type": "execute_result"
    }
   ],
   "source": [
    "sum(temph.column(1))"
   ]
  },
  {
   "cell_type": "code",
   "execution_count": 178,
   "metadata": {},
   "outputs": [],
   "source": [
    "def word_prob_table(table, total, k = 0.5):\n",
    "    \"\"\"\n",
    "    Returns a table with Word and probability\n",
    "    \n",
    "    table is count data where first column is word and second is count\n",
    "    k is psuedocount smmother parameter\n",
    "    total is the total number of subject lines\n",
    "    \"\"\"\n",
    "    temp_table=table.with_column('Frequency',\\\n",
    "        (table.column(1)+k)/(total + 2*k)).\\\n",
    "        set_format(\"Frequency\", ds.NumberFormatter(decimals=4)).drop(1)\n",
    "    return temp_table"
   ]
  },
  {
   "cell_type": "code",
   "execution_count": 179,
   "metadata": {},
   "outputs": [
    {
     "data": {
      "text/html": [
       "<table border=\"1\" class=\"dataframe\">\n",
       "    <thead>\n",
       "        <tr>\n",
       "            <th>Words</th> <th>Frequency</th>\n",
       "        </tr>\n",
       "    </thead>\n",
       "    <tbody>\n",
       "        <tr>\n",
       "            <td>ilug </td> <td>0.0912   </td>\n",
       "        </tr>\n",
       "    </tbody>\n",
       "        <tr>\n",
       "            <td>free </td> <td>0.0712   </td>\n",
       "        </tr>\n",
       "    </tbody>\n",
       "        <tr>\n",
       "            <td>get  </td> <td>0.0512   </td>\n",
       "        </tr>\n",
       "    </tbody>\n",
       "        <tr>\n",
       "            <td>rates</td> <td>0.0413   </td>\n",
       "        </tr>\n",
       "    </tbody>\n",
       "        <tr>\n",
       "            <td>best </td> <td>0.0413   </td>\n",
       "        </tr>\n",
       "    </tbody>\n",
       "        <tr>\n",
       "            <td>adv  </td> <td>0.0413   </td>\n",
       "        </tr>\n",
       "    </tbody>\n",
       "        <tr>\n",
       "            <td>money</td> <td>0.0362   </td>\n",
       "        </tr>\n",
       "    </tbody>\n",
       "        <tr>\n",
       "            <td>home </td> <td>0.0362   </td>\n",
       "        </tr>\n",
       "    </tbody>\n",
       "        <tr>\n",
       "            <td>low  </td> <td>0.0338   </td>\n",
       "        </tr>\n",
       "    </tbody>\n",
       "        <tr>\n",
       "            <td>2002 </td> <td>0.0338   </td>\n",
       "        </tr>\n",
       "    </tbody>\n",
       "</table>\n",
       "<p>... (967 rows omitted)</p>"
      ],
      "text/plain": [
       "Words | Frequency\n",
       "ilug  | 0.0912\n",
       "free  | 0.0712\n",
       "get   | 0.0512\n",
       "rates | 0.0413\n",
       "best  | 0.0413\n",
       "adv   | 0.0413\n",
       "money | 0.0362\n",
       "home  | 0.0362\n",
       "low   | 0.0338\n",
       "2002  | 0.0338\n",
       "... (967 rows omitted)"
      ]
     },
     "execution_count": 179,
     "metadata": {},
     "output_type": "execute_result"
    }
   ],
   "source": [
    "word_prob_table(temps,num_spam_train)"
   ]
  },
  {
   "cell_type": "code",
   "execution_count": 180,
   "metadata": {},
   "outputs": [
    {
     "data": {
      "text/html": [
       "<table border=\"1\" class=\"dataframe\">\n",
       "    <thead>\n",
       "        <tr>\n",
       "            <th>Words</th> <th>Frequency</th>\n",
       "        </tr>\n",
       "    </thead>\n",
       "    <tbody>\n",
       "        <tr>\n",
       "            <td>satalk   </td> <td>0.0479   </td>\n",
       "        </tr>\n",
       "    </tbody>\n",
       "        <tr>\n",
       "            <td>spambayes</td> <td>0.0453   </td>\n",
       "        </tr>\n",
       "    </tbody>\n",
       "        <tr>\n",
       "            <td>new      </td> <td>0.0418   </td>\n",
       "        </tr>\n",
       "    </tbody>\n",
       "        <tr>\n",
       "            <td>2        </td> <td>0.0391   </td>\n",
       "        </tr>\n",
       "    </tbody>\n",
       "        <tr>\n",
       "            <td>users    </td> <td>0.0382   </td>\n",
       "        </tr>\n",
       "    </tbody>\n",
       "        <tr>\n",
       "            <td>use      </td> <td>0.0356   </td>\n",
       "        </tr>\n",
       "    </tbody>\n",
       "        <tr>\n",
       "            <td>razor    </td> <td>0.0325   </td>\n",
       "        </tr>\n",
       "    </tbody>\n",
       "        <tr>\n",
       "            <td>zzzzteana</td> <td>0.0312   </td>\n",
       "        </tr>\n",
       "    </tbody>\n",
       "        <tr>\n",
       "            <td>ilug     </td> <td>0.0312   </td>\n",
       "        </tr>\n",
       "    </tbody>\n",
       "        <tr>\n",
       "            <td>2002     </td> <td>0.0307   </td>\n",
       "        </tr>\n",
       "    </tbody>\n",
       "</table>\n",
       "<p>... (3317 rows omitted)</p>"
      ],
      "text/plain": [
       "Words     | Frequency\n",
       "satalk    | 0.0479\n",
       "spambayes | 0.0453\n",
       "new       | 0.0418\n",
       "2         | 0.0391\n",
       "users     | 0.0382\n",
       "use       | 0.0356\n",
       "razor     | 0.0325\n",
       "zzzzteana | 0.0312\n",
       "ilug      | 0.0312\n",
       "2002      | 0.0307\n",
       "... (3317 rows omitted)"
      ]
     },
     "execution_count": 180,
     "metadata": {},
     "output_type": "execute_result"
    }
   ],
   "source": [
    "word_prob_table(temph,num_ham_train)"
   ]
  },
  {
   "cell_type": "code",
   "execution_count": 166,
   "metadata": {},
   "outputs": [
    {
     "data": {
      "text/html": [
       "<table border=\"1\" class=\"dataframe\">\n",
       "    <thead>\n",
       "        <tr>\n",
       "            <th>Words</th> <th>Spam Subject Line Frequency</th>\n",
       "        </tr>\n",
       "    </thead>\n",
       "    <tbody>\n",
       "        <tr>\n",
       "            <td>ilug </td> <td>0.0912                     </td>\n",
       "        </tr>\n",
       "    </tbody>\n",
       "        <tr>\n",
       "            <td>free </td> <td>0.0712                     </td>\n",
       "        </tr>\n",
       "    </tbody>\n",
       "        <tr>\n",
       "            <td>get  </td> <td>0.0512                     </td>\n",
       "        </tr>\n",
       "    </tbody>\n",
       "        <tr>\n",
       "            <td>rates</td> <td>0.0413                     </td>\n",
       "        </tr>\n",
       "    </tbody>\n",
       "        <tr>\n",
       "            <td>best </td> <td>0.0413                     </td>\n",
       "        </tr>\n",
       "    </tbody>\n",
       "        <tr>\n",
       "            <td>adv  </td> <td>0.0413                     </td>\n",
       "        </tr>\n",
       "    </tbody>\n",
       "        <tr>\n",
       "            <td>money</td> <td>0.0362                     </td>\n",
       "        </tr>\n",
       "    </tbody>\n",
       "        <tr>\n",
       "            <td>home </td> <td>0.0362                     </td>\n",
       "        </tr>\n",
       "    </tbody>\n",
       "        <tr>\n",
       "            <td>low  </td> <td>0.0338                     </td>\n",
       "        </tr>\n",
       "    </tbody>\n",
       "        <tr>\n",
       "            <td>2002 </td> <td>0.0338                     </td>\n",
       "        </tr>\n",
       "    </tbody>\n",
       "</table>\n",
       "<p>... (967 rows omitted)</p>"
      ],
      "text/plain": [
       "Words | Spam Subject Line Frequency\n",
       "ilug  | 0.0912\n",
       "free  | 0.0712\n",
       "get   | 0.0512\n",
       "rates | 0.0413\n",
       "best  | 0.0413\n",
       "adv   | 0.0413\n",
       "money | 0.0362\n",
       "home  | 0.0362\n",
       "low   | 0.0338\n",
       "2002  | 0.0338\n",
       "... (967 rows omitted)"
      ]
     },
     "execution_count": 166,
     "metadata": {},
     "output_type": "execute_result"
    }
   ],
   "source": [
    "# Test code\n",
    "temp_spam_table = temps.with_column('Spam Subject Line Frequency',\\\n",
    "        (temps.column('Spam Count')+k)/(num_spam_train + 2*k)).\\\n",
    "        set_format(\"Spam Subject Line Frequency\", ds.NumberFormatter(decimals=4)).drop('Spam Count')\n",
    "temp_spam_table"
   ]
  },
  {
   "cell_type": "code",
   "execution_count": 168,
   "metadata": {},
   "outputs": [
    {
     "data": {
      "text/html": [
       "<table border=\"1\" class=\"dataframe\">\n",
       "    <thead>\n",
       "        <tr>\n",
       "            <th>Words</th> <th>Ham Subject Line Frequency</th>\n",
       "        </tr>\n",
       "    </thead>\n",
       "    <tbody>\n",
       "        <tr>\n",
       "            <td>satalk   </td> <td>0.0479                    </td>\n",
       "        </tr>\n",
       "    </tbody>\n",
       "        <tr>\n",
       "            <td>spambayes</td> <td>0.0453                    </td>\n",
       "        </tr>\n",
       "    </tbody>\n",
       "        <tr>\n",
       "            <td>new      </td> <td>0.0418                    </td>\n",
       "        </tr>\n",
       "    </tbody>\n",
       "        <tr>\n",
       "            <td>2        </td> <td>0.0391                    </td>\n",
       "        </tr>\n",
       "    </tbody>\n",
       "        <tr>\n",
       "            <td>users    </td> <td>0.0382                    </td>\n",
       "        </tr>\n",
       "    </tbody>\n",
       "        <tr>\n",
       "            <td>use      </td> <td>0.0356                    </td>\n",
       "        </tr>\n",
       "    </tbody>\n",
       "        <tr>\n",
       "            <td>razor    </td> <td>0.0325                    </td>\n",
       "        </tr>\n",
       "    </tbody>\n",
       "        <tr>\n",
       "            <td>zzzzteana</td> <td>0.0312                    </td>\n",
       "        </tr>\n",
       "    </tbody>\n",
       "        <tr>\n",
       "            <td>ilug     </td> <td>0.0312                    </td>\n",
       "        </tr>\n",
       "    </tbody>\n",
       "        <tr>\n",
       "            <td>2002     </td> <td>0.0307                    </td>\n",
       "        </tr>\n",
       "    </tbody>\n",
       "</table>\n",
       "<p>... (3317 rows omitted)</p>"
      ],
      "text/plain": [
       "Words     | Ham Subject Line Frequency\n",
       "satalk    | 0.0479\n",
       "spambayes | 0.0453\n",
       "new       | 0.0418\n",
       "2         | 0.0391\n",
       "users     | 0.0382\n",
       "use       | 0.0356\n",
       "razor     | 0.0325\n",
       "zzzzteana | 0.0312\n",
       "ilug      | 0.0312\n",
       "2002      | 0.0307\n",
       "... (3317 rows omitted)"
      ]
     },
     "execution_count": 168,
     "metadata": {},
     "output_type": "execute_result"
    }
   ],
   "source": [
    "#Test code\n",
    "temp_ham_table = temph.with_column('Ham Subject Line Frequency',\\\n",
    "        (temph.column('Ham Count')+k)/(num_ham_train + 2*k)).\\\n",
    "        set_format(\"Ham Subject Line Frequency\", ds.NumberFormatter(decimals=4)).drop('Ham Count')\n",
    "temp_ham_table"
   ]
  },
  {
   "cell_type": "code",
   "execution_count": 170,
   "metadata": {},
   "outputs": [
    {
     "data": {
      "text/html": [
       "<table border=\"1\" class=\"dataframe\">\n",
       "    <thead>\n",
       "        <tr>\n",
       "            <th>Words</th> <th>Spam Count</th> <th>Spam Subject Line Frequency</th>\n",
       "        </tr>\n",
       "    </thead>\n",
       "    <tbody>\n",
       "        <tr>\n",
       "            <td>ilug </td> <td>36        </td> <td>0.0912                     </td>\n",
       "        </tr>\n",
       "    </tbody>\n",
       "        <tr>\n",
       "            <td>free </td> <td>28        </td> <td>0.0712                     </td>\n",
       "        </tr>\n",
       "    </tbody>\n",
       "        <tr>\n",
       "            <td>get  </td> <td>20        </td> <td>0.0512                     </td>\n",
       "        </tr>\n",
       "    </tbody>\n",
       "        <tr>\n",
       "            <td>rates</td> <td>16        </td> <td>0.0413                     </td>\n",
       "        </tr>\n",
       "    </tbody>\n",
       "        <tr>\n",
       "            <td>best </td> <td>16        </td> <td>0.0413                     </td>\n",
       "        </tr>\n",
       "    </tbody>\n",
       "        <tr>\n",
       "            <td>adv  </td> <td>16        </td> <td>0.0413                     </td>\n",
       "        </tr>\n",
       "    </tbody>\n",
       "        <tr>\n",
       "            <td>money</td> <td>14        </td> <td>0.0362                     </td>\n",
       "        </tr>\n",
       "    </tbody>\n",
       "        <tr>\n",
       "            <td>home </td> <td>14        </td> <td>0.0362                     </td>\n",
       "        </tr>\n",
       "    </tbody>\n",
       "        <tr>\n",
       "            <td>low  </td> <td>13        </td> <td>0.0338                     </td>\n",
       "        </tr>\n",
       "    </tbody>\n",
       "        <tr>\n",
       "            <td>2002 </td> <td>13        </td> <td>0.0338                     </td>\n",
       "        </tr>\n",
       "    </tbody>\n",
       "</table>\n",
       "<p>... (967 rows omitted)</p>"
      ],
      "text/plain": [
       "Words | Spam Count | Spam Subject Line Frequency\n",
       "ilug  | 36         | 0.0912\n",
       "free  | 28         | 0.0712\n",
       "get   | 20         | 0.0512\n",
       "rates | 16         | 0.0413\n",
       "best  | 16         | 0.0413\n",
       "adv   | 16         | 0.0413\n",
       "money | 14         | 0.0362\n",
       "home  | 14         | 0.0362\n",
       "low   | 13         | 0.0338\n",
       "2002  | 13         | 0.0338\n",
       "... (967 rows omitted)"
      ]
     },
     "execution_count": 170,
     "metadata": {},
     "output_type": "execute_result"
    }
   ],
   "source": [
    "#Check work\n",
    "temp_spam_word_counts = temp_spam_word_counts.with_column('Spam Subject Line Frequency',\\\n",
    "        (temp_spam_word_counts.column('Spam Count')+k)/(num_spam_train + 2*k)).\\\n",
    "        set_format(\"Spam Subject Line Frequency\", ds.NumberFormatter(decimals=4))\n",
    "temp_spam_word_counts"
   ]
  },
  {
   "cell_type": "code",
   "execution_count": 206,
   "metadata": {},
   "outputs": [],
   "source": [
    "def merge_prob_tables(table1,table2,total1,total2,k=0.5):\n",
    "    \"\"\"\n",
    "    Returns a table with words and conditional probabilities\n",
    "    \n",
    "    table1 is a word frequency table with two columns the first is word\n",
    "    table2 is a word frequency table with two columns the first is word\n",
    "    total1 total number of subject lines in first table\n",
    "    total2 total number of subject lines in second table\n",
    "    \"\"\"\n",
    "    temp_table=pd.merge(table1.to_df(),table2.to_df(),how=\"outer\",on=\"Words\")\n",
    "    temp_table.fillna({\"Frequency_x\":k/(total1+2*k),\"Frequency_y\":k/(total2+2*k)},inplace=True)\n",
    "    temp_table = ds.Table.from_df(temp_table)\n",
    "    temp_table.relabel(\"Frequency_x\",\"SpamFreq\")\n",
    "    temp_table.relabel(\"Frequency_y\",\"HamFreq\")\n",
    "    return temp_table"
   ]
  },
  {
   "cell_type": "code",
   "execution_count": 181,
   "metadata": {},
   "outputs": [],
   "source": [
    "temp1 = word_prob_table(temps,num_spam_train)\n",
    "temp2 = word_prob_table(temph,num_ham_train)"
   ]
  },
  {
   "cell_type": "code",
   "execution_count": 208,
   "metadata": {},
   "outputs": [
    {
     "data": {
      "text/html": [
       "<table border=\"1\" class=\"dataframe\">\n",
       "    <thead>\n",
       "        <tr>\n",
       "            <th>Words</th> <th>SpamFreq</th> <th>HamFreq</th>\n",
       "        </tr>\n",
       "    </thead>\n",
       "    <tbody>\n",
       "        <tr>\n",
       "            <td>ilug </td> <td>0.09125 </td> <td>0.0311533  </td>\n",
       "        </tr>\n",
       "    </tbody>\n",
       "        <tr>\n",
       "            <td>free </td> <td>0.07125 </td> <td>0.00508175 </td>\n",
       "        </tr>\n",
       "    </tbody>\n",
       "        <tr>\n",
       "            <td>get  </td> <td>0.05125 </td> <td>0.0108263  </td>\n",
       "        </tr>\n",
       "    </tbody>\n",
       "        <tr>\n",
       "            <td>rates</td> <td>0.04125 </td> <td>0.000220946</td>\n",
       "        </tr>\n",
       "    </tbody>\n",
       "        <tr>\n",
       "            <td>best </td> <td>0.04125 </td> <td>0.00154662 </td>\n",
       "        </tr>\n",
       "    </tbody>\n",
       "        <tr>\n",
       "            <td>adv  </td> <td>0.04125 </td> <td>0.000220946</td>\n",
       "        </tr>\n",
       "    </tbody>\n",
       "        <tr>\n",
       "            <td>money</td> <td>0.03625 </td> <td>0.000220946</td>\n",
       "        </tr>\n",
       "    </tbody>\n",
       "        <tr>\n",
       "            <td>home </td> <td>0.03625 </td> <td>0.00331418 </td>\n",
       "        </tr>\n",
       "    </tbody>\n",
       "        <tr>\n",
       "            <td>low  </td> <td>0.03375 </td> <td>0.00684932 </td>\n",
       "        </tr>\n",
       "    </tbody>\n",
       "        <tr>\n",
       "            <td>2002 </td> <td>0.03375 </td> <td>0.0307114  </td>\n",
       "        </tr>\n",
       "    </tbody>\n",
       "</table>\n",
       "<p>... (3926 rows omitted)</p>"
      ],
      "text/plain": [
       "Words | SpamFreq | HamFreq\n",
       "ilug  | 0.09125  | 0.0311533\n",
       "free  | 0.07125  | 0.00508175\n",
       "get   | 0.05125  | 0.0108263\n",
       "rates | 0.04125  | 0.000220946\n",
       "best  | 0.04125  | 0.00154662\n",
       "adv   | 0.04125  | 0.000220946\n",
       "money | 0.03625  | 0.000220946\n",
       "home  | 0.03625  | 0.00331418\n",
       "low   | 0.03375  | 0.00684932\n",
       "2002  | 0.03375  | 0.0307114\n",
       "... (3926 rows omitted)"
      ]
     },
     "execution_count": 208,
     "metadata": {},
     "output_type": "execute_result"
    }
   ],
   "source": [
    "temp3=merge_prob_tables(temp1,temp2,num_spam_train,num_ham_train)\n",
    "temp3"
   ]
  },
  {
   "cell_type": "code",
   "execution_count": 212,
   "metadata": {},
   "outputs": [
    {
     "data": {
      "text/html": [
       "<table border=\"1\" class=\"dataframe\">\n",
       "    <thead>\n",
       "        <tr>\n",
       "            <th>Words</th> <th>SpamFreq</th> <th>HamFreq</th>\n",
       "        </tr>\n",
       "    </thead>\n",
       "    <tbody>\n",
       "        <tr>\n",
       "            <td>free </td> <td>0.07125 </td> <td>0.00508175</td>\n",
       "        </tr>\n",
       "    </tbody>\n",
       "</table>"
      ],
      "text/plain": [
       "Words | SpamFreq | HamFreq\n",
       "free  | 0.07125  | 0.00508175"
      ]
     },
     "execution_count": 212,
     "metadata": {},
     "output_type": "execute_result"
    }
   ],
   "source": [
    "temp_word=\"free\"\n",
    "temp3.where(\"Words\",temp_word)"
   ]
  },
  {
   "cell_type": "code",
   "execution_count": 213,
   "metadata": {},
   "outputs": [
    {
     "data": {
      "text/plain": [
       "array([0.07125])"
      ]
     },
     "execution_count": 213,
     "metadata": {},
     "output_type": "execute_result"
    }
   ],
   "source": [
    "temp3.where(\"Words\",temp_word)[1]"
   ]
  },
  {
   "cell_type": "markdown",
   "metadata": {},
   "source": [
    "Now we need to calculate the probability of spam and ham based on the words"
   ]
  },
  {
   "cell_type": "code",
   "execution_count": 220,
   "metadata": {},
   "outputs": [
    {
     "data": {
      "text/plain": [
       "0.1425"
      ]
     },
     "execution_count": 220,
     "metadata": {},
     "output_type": "execute_result"
    }
   ],
   "source": [
    "float(temp3.where(\"Words\",temp_word)[1]*2)"
   ]
  },
  {
   "cell_type": "code",
   "execution_count": 228,
   "metadata": {},
   "outputs": [
    {
     "data": {
      "text/plain": [
       "0"
      ]
     },
     "execution_count": 228,
     "metadata": {},
     "output_type": "execute_result"
    }
   ],
   "source": [
    "temp3.where(\"Words\",\"Bradley\")[1].size"
   ]
  },
  {
   "cell_type": "code",
   "execution_count": null,
   "metadata": {},
   "outputs": [],
   "source": []
  },
  {
   "cell_type": "markdown",
   "metadata": {},
   "source": [
    "## When to Use Naive Bayes\n",
    "\n",
    "Because naive Bayesian classifiers make such stringent assumptions about data, they will generally not perform as well as a more complicated model.\n",
    "That said, they have several advantages:\n",
    "\n",
    "- They are extremely fast for both training and prediction\n",
    "- They provide straightforward probabilistic prediction\n",
    "- They are often very easily interpretable\n",
    "- They have very few (if any) tunable parameters\n",
    "\n",
    "These advantages mean a naive Bayesian classifier is often a good choice as an initial baseline classification.\n",
    "If it performs suitably, then congratulations: you have a very fast, very interpretable classifier for your problem.\n",
    "If it does not perform well, then you can begin exploring more sophisticated models, with some baseline knowledge of how well they should perform.\n",
    "\n",
    "Naive Bayes classifiers tend to perform especially well in one of the following situations:\n",
    "\n",
    "- When the naive assumptions actually match the data (very rare in practice)\n",
    "- For very well-separated categories, when model complexity is less important\n",
    "- For very high-dimensional data, when model complexity is less important\n",
    "\n",
    "The last two points seem distinct, but they actually are related: as the dimension of a dataset grows, it is much less likely for any two points to be found close together (after all, they must be close in *every single dimension* to be close overall).\n",
    "This means that clusters in high dimensions tend to be more separated, on average, than clusters in low dimensions, assuming the new dimensions actually add information.\n",
    "For this reason, simplistic classifiers like naive Bayes tend to work as well or better than more complicated classifiers as the dimensionality grows: once you have enough data, even a simple model can be very powerful."
   ]
  },
  {
   "cell_type": "markdown",
   "metadata": {},
   "source": [
    "#### References\n"
   ]
  },
  {
   "cell_type": "markdown",
   "metadata": {},
   "source": [
    "https://www.analyticsvidhya.com/blog/2017/09/naive-bayes-explained/\n",
    "http://localhost:8888/notebooks/Documents/Classes/Books/Stats/Python%20Data%20Science%20Handbook/PythonDataScienceHandbook-master/notebooks/05.05-Naive-Bayes.ipynb"
   ]
  }
 ],
 "metadata": {
  "kernelspec": {
   "display_name": "Python 3",
   "language": "python",
   "name": "python3"
  },
  "language_info": {
   "codemirror_mode": {
    "name": "ipython",
    "version": 3
   },
   "file_extension": ".py",
   "mimetype": "text/x-python",
   "name": "python",
   "nbconvert_exporter": "python",
   "pygments_lexer": "ipython3",
   "version": "3.6.4"
  }
 },
 "nbformat": 4,
 "nbformat_minor": 2
}
